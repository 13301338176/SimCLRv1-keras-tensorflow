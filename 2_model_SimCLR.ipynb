{
 "cells": [
  {
   "cell_type": "code",
   "execution_count": null,
   "metadata": {},
   "outputs": [],
   "source": [
    "%rm -rf /SimCLRv1-keras-tensorflow\n",
    "\n",
    "!git clone https://github.com/mwdhont/SimCLRv1-keras-tensorflow.git"
   ]
  },
  {
   "cell_type": "code",
   "execution_count": 1,
   "metadata": {
    "tags": []
   },
   "outputs": [
    {
     "output_type": "stream",
     "name": "stdout",
     "text": "Volume in drive C is Windows\n Volume Serial Number is 66FD-0D67\n\n Directory of c:\\Users\\michi\\Desktop\\SimCLR\n\n22/07/2020  03:19 PM    <DIR>          .\n22/07/2020  03:19 PM    <DIR>          ..\n22/07/2020  01:08 PM            11,536 0_illustration_SoftmaxCosineSim.ipynb\n22/07/2020  03:28 PM             6,848 1_data_processing_trashnet.ipynb\n22/07/2020  03:34 PM           257,005 2_model_SimCLR.ipynb\n22/07/2020  03:18 PM             6,772 Classifier.py\n22/07/2020  01:15 PM    <DIR>          data\n22/07/2020  01:36 PM             2,487 DataGeneratorClass.py\n22/07/2020  01:27 PM             3,645 DataGeneratorSimCLR.py\n22/07/2020  03:19 PM             5,610 evaluate_features.py\n22/07/2020  03:19 PM    <DIR>          figures\n16/07/2020  10:13 PM    <DIR>          img\n14/07/2020  10:31 PM             1,091 LICENSE\n22/07/2020  01:20 PM    <DIR>          models\n22/07/2020  02:44 PM             3,499 README.md\n22/07/2020  01:39 PM               218 requirements.txt\n22/07/2020  03:20 PM             8,614 SimCLR.py\n22/07/2020  01:06 PM            18,266 SimCLR_data_util.py\n22/07/2020  01:32 PM             2,921 SoftmaxCosineSim.py\n22/07/2020  03:20 PM               657 swish.py\n              14 File(s)        329,169 bytes\n               6 Dir(s)  12,476,952,576 bytes free\n"
    }
   ],
   "source": [
    "%ls\n",
    "%cd SimCLRv1-keras-tensorflow/\n",
    "!pip install -r requirements.txt"
   ]
  },
  {
   "cell_type": "code",
   "execution_count": 21,
   "metadata": {},
   "outputs": [],
   "source": [
    "import numpy as np\n",
    "import pickle\n",
    "import cv2 as cv\n",
    "import matplotlib.pyplot as plt\n",
    "import pandas as pd\n",
    "\n",
    "from sklearn.model_selection import train_test_split\n",
    "from sklearn.metrics import classification_report\n",
    "\n",
    "from tensorflow.keras.applications.vgg16 import VGG16 #https://keras.io/applications/#vgg16\n",
    "from tensorflow.keras.applications.vgg16 import preprocess_input\n",
    "from tensorflow.keras.models import load_model\n",
    "import tensorflow as tf\n",
    "\n",
    "from evaluate_features import get_features, linear_classifier, tSNE_vis"
   ]
  },
  {
   "cell_type": "markdown",
   "metadata": {},
   "source": [
    "# Load Dataframe"
   ]
  },
  {
   "cell_type": "code",
   "execution_count": 22,
   "metadata": {},
   "outputs": [
    {
     "data": {
      "text/html": [
       "<div>\n",
       "<style scoped>\n",
       "    .dataframe tbody tr th:only-of-type {\n",
       "        vertical-align: middle;\n",
       "    }\n",
       "\n",
       "    .dataframe tbody tr th {\n",
       "        vertical-align: top;\n",
       "    }\n",
       "\n",
       "    .dataframe thead th {\n",
       "        text-align: right;\n",
       "    }\n",
       "</style>\n",
       "<table border=\"1\" class=\"dataframe\">\n",
       "  <thead>\n",
       "    <tr style=\"text-align: right;\">\n",
       "      <th></th>\n",
       "      <th>filename</th>\n",
       "      <th>class_label</th>\n",
       "      <th>class_one_hot</th>\n",
       "    </tr>\n",
       "  </thead>\n",
       "  <tbody>\n",
       "    <tr>\n",
       "      <th>0</th>\n",
       "      <td>/mmdetection/notebooks/Trashnet/repo/data/proc...</td>\n",
       "      <td>plastic</td>\n",
       "      <td>[0, 0, 0, 0, 1]</td>\n",
       "    </tr>\n",
       "    <tr>\n",
       "      <th>1</th>\n",
       "      <td>/mmdetection/notebooks/Trashnet/repo/data/proc...</td>\n",
       "      <td>plastic</td>\n",
       "      <td>[0, 0, 0, 0, 1]</td>\n",
       "    </tr>\n",
       "    <tr>\n",
       "      <th>2</th>\n",
       "      <td>/mmdetection/notebooks/Trashnet/repo/data/proc...</td>\n",
       "      <td>plastic</td>\n",
       "      <td>[0, 0, 0, 0, 1]</td>\n",
       "    </tr>\n",
       "    <tr>\n",
       "      <th>3</th>\n",
       "      <td>/mmdetection/notebooks/Trashnet/repo/data/proc...</td>\n",
       "      <td>plastic</td>\n",
       "      <td>[0, 0, 0, 0, 1]</td>\n",
       "    </tr>\n",
       "    <tr>\n",
       "      <th>4</th>\n",
       "      <td>/mmdetection/notebooks/Trashnet/repo/data/proc...</td>\n",
       "      <td>plastic</td>\n",
       "      <td>[0, 0, 0, 0, 1]</td>\n",
       "    </tr>\n",
       "  </tbody>\n",
       "</table>\n",
       "</div>"
      ],
      "text/plain": [
       "                                            filename class_label  \\\n",
       "0  /mmdetection/notebooks/Trashnet/repo/data/proc...     plastic   \n",
       "1  /mmdetection/notebooks/Trashnet/repo/data/proc...     plastic   \n",
       "2  /mmdetection/notebooks/Trashnet/repo/data/proc...     plastic   \n",
       "3  /mmdetection/notebooks/Trashnet/repo/data/proc...     plastic   \n",
       "4  /mmdetection/notebooks/Trashnet/repo/data/proc...     plastic   \n",
       "\n",
       "     class_one_hot  \n",
       "0  [0, 0, 0, 0, 1]  \n",
       "1  [0, 0, 0, 0, 1]  \n",
       "2  [0, 0, 0, 0, 1]  \n",
       "3  [0, 0, 0, 0, 1]  \n",
       "4  [0, 0, 0, 0, 1]  "
      ]
     },
     "execution_count": 22,
     "metadata": {},
     "output_type": "execute_result"
    }
   ],
   "source": [
    "df = pd.read_pickle(\"data/df.pickle\")\n",
    "df.head()"
   ]
  },
  {
   "cell_type": "code",
   "execution_count": 23,
   "metadata": {},
   "outputs": [
    {
     "name": "stdout",
     "output_type": "stream",
     "text": [
      "# of training instances: 2390 \n",
      "\n",
      "# of 'cardboard' training instances: 403\n",
      "# of 'glass' training instances: 501\n",
      "# of 'metal' training instances: 410\n",
      "# of 'paper' training instances: 594\n",
      "# of 'plastic' training instances: 482\n"
     ]
    }
   ],
   "source": [
    "class_labels = [\"cardboard\", \"glass\", \"metal\", \"paper\", \"plastic\"]\n",
    "num_classes = len(df['class_one_hot'][0])\n",
    "\n",
    "print(\"# of training instances:\", len(df.index), \"\\n\")\n",
    "for label in class_labels:\n",
    "    print(f\"# of '{label}' training instances: {(df.class_label == label).sum()}\")"
   ]
  },
  {
   "cell_type": "code",
   "execution_count": 24,
   "metadata": {},
   "outputs": [
    {
     "name": "stdout",
     "output_type": "stream",
     "text": [
      "# of training instances: 1673 \n",
      "\n",
      "# of 'cardboard' training instances: 299\n",
      "# of 'glass' training instances: 358\n",
      "# of 'metal' training instances: 286\n",
      "# of 'paper' training instances: 405\n",
      "# of 'plastic' training instances: 325\n",
      "\n",
      "# of validation instances: 358 \n",
      "\n",
      "# of 'cardboard' training instances: 47\n",
      "# of 'glass' training instances: 84\n",
      "# of 'metal' training instances: 51\n",
      "# of 'paper' training instances: 100\n",
      "# of 'plastic' training instances: 76\n",
      "\n",
      "# of test instances: 359 \n",
      "\n",
      "# of 'cardboard' training instances: 57\n",
      "# of 'glass' training instances: 59\n",
      "# of 'metal' training instances: 73\n",
      "# of 'paper' training instances: 89\n",
      "# of 'plastic' training instances: 81\n"
     ]
    }
   ],
   "source": [
    "df_train, df_val_test = train_test_split(df, test_size=0.30, random_state=42, shuffle=True)\n",
    "df_val, df_test = train_test_split(df_val_test, test_size=0.50, random_state=42, shuffle=True)\n",
    "\n",
    "print(\"# of training instances:\", len(df_train.index), \"\\n\")\n",
    "for label in class_labels:\n",
    "    print(f\"# of '{label}' training instances: {(df_train.class_label == label).sum()}\")\n",
    "    \n",
    "print()\n",
    "print(\"# of validation instances:\", len(df_val.index), \"\\n\")\n",
    "for label in class_labels:\n",
    "    print(f\"# of '{label}' training instances: {(df_val.class_label == label).sum()}\")\n",
    "\n",
    "print()\n",
    "print(\"# of test instances:\", len(df_test.index), \"\\n\")\n",
    "for label in class_labels:\n",
    "    print(f\"# of '{label}' training instances: {(df_test.class_label == label).sum()}\")\n",
    "    \n",
    "dfs = {\n",
    "    \"train\": df_train,\n",
    "    \"val\": df_val,\n",
    "    \"test\": df_test\n",
    "}"
   ]
  },
  {
   "cell_type": "code",
   "execution_count": 25,
   "metadata": {},
   "outputs": [],
   "source": [
    "# Img size\n",
    "size = 80\n",
    "height_img = size\n",
    "width_img = size\n",
    "\n",
    "input_shape = (height_img, width_img, 3)"
   ]
  },
  {
   "cell_type": "markdown",
   "metadata": {},
   "source": [
    "# Load pretrained VGG16 & Feature evaluation"
   ]
  },
  {
   "cell_type": "code",
   "execution_count": 26,
   "metadata": {},
   "outputs": [
    {
     "name": "stdout",
     "output_type": "stream",
     "text": [
      "Model: \"vgg16\"\n",
      "_________________________________________________________________\n",
      "Layer (type)                 Output Shape              Param #   \n",
      "=================================================================\n",
      "input_130 (InputLayer)       [(None, 80, 80, 3)]       0         \n",
      "_________________________________________________________________\n",
      "block1_conv1 (Conv2D)        (None, 80, 80, 64)        1792      \n",
      "_________________________________________________________________\n",
      "block1_conv2 (Conv2D)        (None, 80, 80, 64)        36928     \n",
      "_________________________________________________________________\n",
      "block1_pool (MaxPooling2D)   (None, 40, 40, 64)        0         \n",
      "_________________________________________________________________\n",
      "block2_conv1 (Conv2D)        (None, 40, 40, 128)       73856     \n",
      "_________________________________________________________________\n",
      "block2_conv2 (Conv2D)        (None, 40, 40, 128)       147584    \n",
      "_________________________________________________________________\n",
      "block2_pool (MaxPooling2D)   (None, 20, 20, 128)       0         \n",
      "_________________________________________________________________\n",
      "block3_conv1 (Conv2D)        (None, 20, 20, 256)       295168    \n",
      "_________________________________________________________________\n",
      "block3_conv2 (Conv2D)        (None, 20, 20, 256)       590080    \n",
      "_________________________________________________________________\n",
      "block3_conv3 (Conv2D)        (None, 20, 20, 256)       590080    \n",
      "_________________________________________________________________\n",
      "block3_pool (MaxPooling2D)   (None, 10, 10, 256)       0         \n",
      "_________________________________________________________________\n",
      "block4_conv1 (Conv2D)        (None, 10, 10, 512)       1180160   \n",
      "_________________________________________________________________\n",
      "block4_conv2 (Conv2D)        (None, 10, 10, 512)       2359808   \n",
      "_________________________________________________________________\n",
      "block4_conv3 (Conv2D)        (None, 10, 10, 512)       2359808   \n",
      "_________________________________________________________________\n",
      "block4_pool (MaxPooling2D)   (None, 5, 5, 512)         0         \n",
      "_________________________________________________________________\n",
      "block5_conv1 (Conv2D)        (None, 5, 5, 512)         2359808   \n",
      "_________________________________________________________________\n",
      "block5_conv2 (Conv2D)        (None, 5, 5, 512)         2359808   \n",
      "_________________________________________________________________\n",
      "block5_conv3 (Conv2D)        (None, 5, 5, 512)         2359808   \n",
      "_________________________________________________________________\n",
      "block5_pool (MaxPooling2D)   (None, 2, 2, 512)         0         \n",
      "=================================================================\n",
      "Total params: 14,714,688\n",
      "Trainable params: 14,714,688\n",
      "Non-trainable params: 0\n",
      "_________________________________________________________________\n"
     ]
    }
   ],
   "source": [
    "params_vgg16 = {'weights': \"imagenet\", \n",
    "                'include_top': False, \n",
    "                'input_shape': input_shape, \n",
    "                'pooling': None}\n",
    "\n",
    "# Design model\n",
    "base_model = VGG16(**params_vgg16)\n",
    "base_model.summary()"
   ]
  },
  {
   "cell_type": "code",
   "execution_count": 27,
   "metadata": {},
   "outputs": [],
   "source": [
    "feat_dim = 2 * 2 * 512"
   ]
  },
  {
   "cell_type": "markdown",
   "metadata": {},
   "source": [
    "# Build SimCLR-Model"
   ]
  },
  {
   "cell_type": "code",
   "execution_count": 28,
   "metadata": {},
   "outputs": [],
   "source": [
    "from DataGeneratorSimCLR import DataGeneratorSimCLR as DataGenerator\n",
    "from SimCLR import SimCLR"
   ]
  },
  {
   "cell_type": "markdown",
   "metadata": {},
   "source": [
    "### Properties"
   ]
  },
  {
   "cell_type": "code",
   "execution_count": 29,
   "metadata": {},
   "outputs": [],
   "source": [
    "batch_size = 32\n",
    "# Projection_head\n",
    "num_layers_ph = 2\n",
    "feat_dims_ph = [2048, 128]\n",
    "num_of_unfrozen_layers = 1 #Note: with 1, all weights of the base_model are still frozen (last layer is max_pool)\n",
    "save_path = 'models/trashnet'"
   ]
  },
  {
   "cell_type": "code",
   "execution_count": 30,
   "metadata": {},
   "outputs": [],
   "source": [
    "SimCLR = SimCLR(\n",
    "        base_model = base_model,\n",
    "        input_shape = input_shape,\n",
    "        batch_size = batch_size,\n",
    "        feat_dim = feat_dim,\n",
    "        feat_dims_ph = feat_dims_ph,\n",
    "        num_of_unfrozen_layers = num_of_unfrozen_layers,\n",
    "        save_path = save_path\n",
    "    )"
   ]
  },
  {
   "cell_type": "code",
   "execution_count": 31,
   "metadata": {},
   "outputs": [],
   "source": [
    "params_generator = {'batch_size': batch_size,\n",
    "                    'shuffle' : True,\n",
    "                    'width':width_img,\n",
    "                    'height': height_img,\n",
    "                    'VGG': True\n",
    "                   }\n",
    "\n",
    "# Generators\n",
    "data_train = DataGenerator(df_train.reset_index(drop=True), **params_generator)\n",
    "data_val = DataGenerator(df_val.reset_index(drop=True), subset = \"val\", **params_generator) #val keeps the unity values on the same random places ~42\n",
    "data_test = DataGenerator(df_test.reset_index(drop=True), subset = \"test\", **params_generator) #test keeps the unity values on the diagonal"
   ]
  },
  {
   "cell_type": "code",
   "execution_count": 15,
   "metadata": {},
   "outputs": [],
   "source": [
    "y_predict_test_before = SimCLR.predict(data_test)"
   ]
  },
  {
   "cell_type": "markdown",
   "metadata": {},
   "source": [
    "# SimCLR - Round 1: Only Projection head"
   ]
  },
  {
   "cell_type": "markdown",
   "metadata": {},
   "source": [
    "## Training SimCLR"
   ]
  },
  {
   "cell_type": "code",
   "execution_count": 32,
   "metadata": {},
   "outputs": [
    {
     "name": "stdout",
     "output_type": "stream",
     "text": [
      "Train for 53 steps, validate for 12 steps\n",
      "Epoch 1/5\n",
      "52/53 [============================>.] - ETA: 0s - loss: 388.1753 - binary_accuracy: 0.9989\n",
      "Epoch 00001: val_loss improved from inf to 337.23475, saving model to //mmdetection/notebooks/Trashnet/repo/models/trashnet/SimCLR/SimCLR_07_22_09h_25.h5\n",
      "53/53 [==============================] - 65s 1s/step - loss: 387.2483 - binary_accuracy: 0.9989 - val_loss: 337.2348 - val_binary_accuracy: 0.9987\n",
      "Epoch 2/5\n",
      "52/53 [============================>.] - ETA: 0s - loss: 294.6216 - binary_accuracy: 0.9993\n",
      "Epoch 00002: val_loss improved from 337.23475 to 250.86018, saving model to //mmdetection/notebooks/Trashnet/repo/models/trashnet/SimCLR/SimCLR_07_22_09h_25.h5\n",
      "53/53 [==============================] - 37s 694ms/step - loss: 293.8218 - binary_accuracy: 0.9993 - val_loss: 250.8602 - val_binary_accuracy: 0.9985\n",
      "Epoch 3/5\n",
      "52/53 [============================>.] - ETA: 0s - loss: 214.6073 - binary_accuracy: 0.9993\n",
      "Epoch 00003: val_loss improved from 250.86018 to 177.77841, saving model to //mmdetection/notebooks/Trashnet/repo/models/trashnet/SimCLR/SimCLR_07_22_09h_25.h5\n",
      "53/53 [==============================] - 37s 692ms/step - loss: 213.9387 - binary_accuracy: 0.9993 - val_loss: 177.7784 - val_binary_accuracy: 0.9988\n",
      "Epoch 4/5\n",
      "52/53 [============================>.] - ETA: 0s - loss: 148.0698 - binary_accuracy: 0.9995\n",
      "Epoch 00004: val_loss improved from 177.77841 to 118.37373, saving model to //mmdetection/notebooks/Trashnet/repo/models/trashnet/SimCLR/SimCLR_07_22_09h_25.h5\n",
      "53/53 [==============================] - 36s 676ms/step - loss: 147.5280 - binary_accuracy: 0.9995 - val_loss: 118.3737 - val_binary_accuracy: 0.9984\n",
      "Epoch 5/5\n",
      "52/53 [============================>.] - ETA: 0s - loss: 95.0669 - binary_accuracy: 0.9997\n",
      "Epoch 00005: val_loss improved from 118.37373 to 72.33312, saving model to //mmdetection/notebooks/Trashnet/repo/models/trashnet/SimCLR/SimCLR_07_22_09h_25.h5\n",
      "53/53 [==============================] - 36s 677ms/step - loss: 94.6516 - binary_accuracy: 0.9997 - val_loss: 72.3331 - val_binary_accuracy: 0.9989\n",
      "trainable parameters: 4.46 M.\n",
      "non-trainable parameters: 14.71 M.\n"
     ]
    }
   ],
   "source": [
    "SimCLR.train(data_train, data_val, epochs = 5)"
   ]
  },
  {
   "cell_type": "code",
   "execution_count": 17,
   "metadata": {},
   "outputs": [],
   "source": [
    "y_predict_test_after = SimCLR.predict(data_test)"
   ]
  },
  {
   "cell_type": "markdown",
   "metadata": {},
   "source": [
    "## SimCLR-output check"
   ]
  },
  {
   "cell_type": "code",
   "execution_count": 18,
   "metadata": {},
   "outputs": [
    {
     "name": "stdout",
     "output_type": "stream",
     "text": [
      "Random guess accuracy: 0.0156\n",
      "accuracy - test - before: 0.55\n",
      "accuracy - test - after: 0.92\n"
     ]
    }
   ],
   "source": [
    "print(f\"Random guess accuracy: {round(1/(2*batch_size),4)}\")\n",
    "\n",
    "print(f\"accuracy - test - before: {np.round(np.sum(data_test[0][1] * y_predict_test_before[:batch_size])/(2*batch_size),2)}\")\n",
    "print(f\"accuracy - test - after: {np.round(np.sum(data_test[0][1] * y_predict_test_after[:batch_size])/(2*batch_size),2)}\")"
   ]
  },
  {
   "cell_type": "code",
   "execution_count": 19,
   "metadata": {},
   "outputs": [
    {
     "name": "stdout",
     "output_type": "stream",
     "text": [
      "y_predict_test_before\n",
      "0.62 | 0.64 | 0.75 | 0.55 | 0.33 | 0.73 | 0.15 | 0.81 | 0.53 | 0.25 | 0.17 | 0.64 | 0.51 | 0.88 | 0.62 | \n",
      "\n",
      "y_predict_test_after\n",
      "0.98 | 0.34 | 0.94 | 0.92 | 0.94 | 0.98 | 0.99 | 0.92 | 0.91 | 0.82 | 0.77 | 0.97 | 0.99 | 1.0 | 0.94 | \n",
      "\n",
      "y_predict_test_after - Second diagonal\n",
      "0.99 | 0.87 | 0.76 | 0.89 | 0.2 | 0.99 | 0.96 | 0.98 | 1.0 | 0.26 | 0.92 | 0.74 | 1.0 | 0.86 | 0.97 | \n",
      "\n"
     ]
    }
   ],
   "source": [
    "print(\"y_predict_test_before\")\n",
    "for i in range(min(batch_size, 15)):\n",
    "    print(np.round(y_predict_test_before[i][i],2), end=\" | \")\n",
    "print(\"\\n\")    \n",
    "print(\"y_predict_test_after\")\n",
    "for i in range(min(batch_size, 15)):\n",
    "    print(np.round(y_predict_test_after[i][i],2), end=\" | \")\n",
    "print(\"\\n\") \n",
    "print(\"y_predict_test_after - Second diagonal\")\n",
    "for i in range(min(batch_size, 15)):\n",
    "    print(np.round(y_predict_test_after[i + 2 * batch_size][i],2), end=\" | \")\n",
    "print(\"\\n\")    "
   ]
  },
  {
   "cell_type": "markdown",
   "metadata": {},
   "source": [
    "## Feature Evaluation\n",
    "\n",
    "Note that this evaluation corresponds with the unaltered pretrained weights"
   ]
  },
  {
   "cell_type": "code",
   "execution_count": 33,
   "metadata": {},
   "outputs": [],
   "source": [
    "fractions = [1.0, 0.2, 0.05]"
   ]
  },
  {
   "cell_type": "markdown",
   "metadata": {},
   "source": [
    "### Logistic regression evaluation"
   ]
  },
  {
   "cell_type": "code",
   "execution_count": 21,
   "metadata": {},
   "outputs": [
    {
     "data": {
      "text/plain": [
       "280"
      ]
     },
     "execution_count": 21,
     "metadata": {},
     "output_type": "execute_result"
    }
   ],
   "source": [
    "features_train, y_train, feats = get_features(base_model, df_train, class_labels)\n",
    "features_test, y_test, feats = get_features(base_model, df_test, class_labels)\n",
    "np.count_nonzero(features_train[0])"
   ]
  },
  {
   "cell_type": "code",
   "execution_count": 22,
   "metadata": {},
   "outputs": [
    {
     "name": "stdout",
     "output_type": "stream",
     "text": [
      "    ==== 100.0% of the training data used ==== \n",
      "\n",
      "Accuracy on test: 0.79 \n",
      "\n",
      "              precision    recall  f1-score   support\n",
      "\n",
      "   cardboard       0.87      0.84      0.86        57\n",
      "       glass       0.64      0.78      0.70        59\n",
      "       metal       0.83      0.71      0.76        73\n",
      "       paper       0.80      0.89      0.84        89\n",
      "     plastic       0.81      0.70      0.75        81\n",
      "\n",
      "    accuracy                           0.79       359\n",
      "   macro avg       0.79      0.79      0.78       359\n",
      "weighted avg       0.79      0.79      0.79       359\n",
      "\n",
      "    ==== 20.0% of the training data used ==== \n",
      "\n",
      "Accuracy on test: 0.7 \n",
      "\n",
      "              precision    recall  f1-score   support\n",
      "\n",
      "   cardboard       0.90      0.79      0.84        57\n",
      "       glass       0.55      0.69      0.61        59\n",
      "       metal       0.69      0.47      0.56        73\n",
      "       paper       0.70      0.83      0.76        89\n",
      "     plastic       0.71      0.69      0.70        81\n",
      "\n",
      "    accuracy                           0.70       359\n",
      "   macro avg       0.71      0.69      0.69       359\n",
      "weighted avg       0.71      0.70      0.69       359\n",
      "\n",
      "    ==== 5.0% of the training data used ==== \n",
      "\n",
      "Accuracy on test: 0.63 \n",
      "\n",
      "              precision    recall  f1-score   support\n",
      "\n",
      "   cardboard       0.93      0.75      0.83        57\n",
      "       glass       0.47      0.63      0.54        59\n",
      "       metal       0.53      0.45      0.49        73\n",
      "       paper       0.72      0.71      0.71        89\n",
      "     plastic       0.60      0.63      0.61        81\n",
      "\n",
      "    accuracy                           0.63       359\n",
      "   macro avg       0.65      0.63      0.64       359\n",
      "weighted avg       0.65      0.63      0.64       359\n",
      "\n"
     ]
    }
   ],
   "source": [
    "# Training logistic regression classifier on 3 fractions of the data\n",
    "# Optimal regularization is determined from a 5-fold cross-validation\n",
    "for fraction in fractions:\n",
    "    print(f\"    ==== {fraction * 100}% of the training data used ==== \\n\")\n",
    "    linear_classifier(features_train, y_train, features_test, y_test, class_labels, fraction = fraction)"
   ]
  },
  {
   "cell_type": "markdown",
   "metadata": {},
   "source": [
    "### Fine tuned model"
   ]
  },
  {
   "cell_type": "code",
   "execution_count": 23,
   "metadata": {},
   "outputs": [],
   "source": [
    "batch_size_classifier = 32\n",
    "params_generator_classifier = {'max_width':width_img,\n",
    "                            'max_height': height_img,\n",
    "                            'num_classes': num_classes,\n",
    "                            'VGG': True\n",
    "                            }\n",
    "params_training_classifier = {'1.0':{\n",
    "                                \"reg_dense\" : 0.005,\n",
    "                                \"reg_out\" : 0.005,\n",
    "                                \"nums_of_unfrozen_layers\" : [5, 5, 6, 7],\n",
    "                                \"lrs\" : [1e-3, 1e-4, 5e-5, 5e-5],\n",
    "                                \"epochs\" : [5, 5, 15, 10]\n",
    "                                },\n",
    "                              '0.2':{\n",
    "                                \"reg_dense\" : 0.075,\n",
    "                                \"reg_out\" : 0.01,\n",
    "                                \"nums_of_unfrozen_layers\" : [5, 5, 6, 7],\n",
    "                                \"lrs\" : [1e-3, 1e-4, 5e-5, 5e-5],\n",
    "                                \"epochs\" : [5, 5, 20, 15]\n",
    "                              },\n",
    "                              '0.05':{\n",
    "                                \"reg_dense\" : 0.01,\n",
    "                                \"reg_out\" : 0.02,\n",
    "                                \"nums_of_unfrozen_layers\" : [5, 5, 6, 7],\n",
    "                                \"lrs\" : [1e-3, 1e-4, 5e-5, 1e-5],\n",
    "                                \"epochs\" : [5, 5, 20, 15]\n",
    "                              }                              \n",
    "                            }"
   ]
  },
  {
   "cell_type": "code",
   "execution_count": 24,
   "metadata": {},
   "outputs": [
    {
     "name": "stdout",
     "output_type": "stream",
     "text": [
      "    ==== 100.0% of the training data used ==== \n",
      "\n",
      "Learning attempt 1\n",
      "CYCLE 0: num_of_unfrozen_layers: 5 - epochs: 5 - lr: 1.0e-03 | Training Loss at end of cycle: 1.41 - Validation Accuracy: 0.74\n",
      "Learning diverged, stopped.\n",
      "Learning attempt 2\n",
      "CYCLE 0: num_of_unfrozen_layers: 5 - epochs: 5 - lr: 1.0e-03 | Training Loss at end of cycle: 1.43 - Validation Accuracy: 0.71\n",
      "CYCLE 1: num_of_unfrozen_layers: 5 - epochs: 5 - lr: 1.0e-04 | Training Loss at end of cycle: 1.06 - Validation Accuracy: 0.72\n",
      "CYCLE 2: num_of_unfrozen_layers: 6 - epochs: 15 - lr: 5.0e-05 | Training Loss at end of cycle: 0.99 - Validation Accuracy: 0.74\n",
      "Learning diverged, stopped.\n",
      "Learning attempt 3\n",
      "CYCLE 0: num_of_unfrozen_layers: 5 - epochs: 5 - lr: 1.0e-03 | Training Loss at end of cycle: 0.64 - Validation Accuracy: 0.79\n",
      "CYCLE 1: num_of_unfrozen_layers: 5 - epochs: 5 - lr: 1.0e-04 | Training Loss at end of cycle: 0.45 - Validation Accuracy: 0.83\n",
      "CYCLE 2: num_of_unfrozen_layers: 6 - epochs: 15 - lr: 5.0e-05 | Training Loss at end of cycle: 0.37 - Validation Accuracy: 0.83\n",
      "CYCLE 3: num_of_unfrozen_layers: 7 - epochs: 10 - lr: 5.0e-05 | Training Loss at end of cycle: 0.38 - Validation Accuracy: 0.78\n",
      "Learning diverged, stopped.\n",
      "Learning attempt 4\n",
      "CYCLE 0: num_of_unfrozen_layers: 5 - epochs: 5 - lr: 1.0e-03 | Training Loss at end of cycle: 0.53 - Validation Accuracy: 0.77\n",
      "CYCLE 1: num_of_unfrozen_layers: 5 - epochs: 5 - lr: 1.0e-04 | Training Loss at end of cycle: 0.40 - Validation Accuracy: 0.84\n",
      "CYCLE 2: num_of_unfrozen_layers: 6 - epochs: 15 - lr: 5.0e-05 | Training Loss at end of cycle: 0.38 - Validation Accuracy: 0.86\n",
      "CYCLE 3: num_of_unfrozen_layers: 7 - epochs: 10 - lr: 5.0e-05 | Training Loss at end of cycle: 0.38 - Validation Accuracy: 0.85\n",
      "Learning attempt 5\n",
      "CYCLE 0: num_of_unfrozen_layers: 5 - epochs: 5 - lr: 1.0e-03 | Training Loss at end of cycle: 0.44 - Validation Accuracy: 0.83\n",
      "CYCLE 1: num_of_unfrozen_layers: 5 - epochs: 5 - lr: 1.0e-04 | Training Loss at end of cycle: 0.37 - Validation Accuracy: 0.86\n",
      "CYCLE 2: num_of_unfrozen_layers: 6 - epochs: 15 - lr: 5.0e-05 | Training Loss at end of cycle: 0.34 - Validation Accuracy: 0.81\n",
      "Learning diverged, stopped.\n",
      "Best result from attempt 5\n",
      "              precision    recall  f1-score   support\n",
      "\n",
      "   cardboard       0.91      0.84      0.87        57\n",
      "       glass       0.75      0.81      0.78        59\n",
      "       metal       0.81      0.84      0.82        73\n",
      "       paper       0.83      0.91      0.87        89\n",
      "     plastic       0.84      0.72      0.77        81\n",
      "\n",
      "    accuracy                           0.82       359\n",
      "   macro avg       0.83      0.82      0.82       359\n",
      "weighted avg       0.83      0.82      0.82       359\n",
      "\n",
      "    ==== 20.0% of the training data used ==== \n",
      "\n",
      "Learning attempt 1\n",
      "CYCLE 0: num_of_unfrozen_layers: 5 - epochs: 5 - lr: 1.0e-03 | Training Loss at end of cycle: 7.12 - Validation Accuracy: 0.76\n",
      "Learning diverged, stopped.\n",
      "Learning attempt 2\n",
      "CYCLE 0: num_of_unfrozen_layers: 5 - epochs: 5 - lr: 1.0e-03 | Training Loss at end of cycle: 7.31 - Validation Accuracy: 0.13\n",
      "Learning diverged, stopped.\n",
      "Learning attempt 3\n",
      "CYCLE 0: num_of_unfrozen_layers: 5 - epochs: 5 - lr: 1.0e-03 | Training Loss at end of cycle: 7.45 - Validation Accuracy: 0.77\n",
      "CYCLE 1: num_of_unfrozen_layers: 5 - epochs: 5 - lr: 1.0e-04 | Training Loss at end of cycle: 2.11 - Validation Accuracy: 0.82\n",
      "CYCLE 2: num_of_unfrozen_layers: 6 - epochs: 20 - lr: 5.0e-05 | Training Loss at end of cycle: 1.77 - Validation Accuracy: 0.83\n",
      "CYCLE 3: num_of_unfrozen_layers: 7 - epochs: 15 - lr: 5.0e-05 | Training Loss at end of cycle: 1.72 - Validation Accuracy: 0.82\n",
      "Learning attempt 4\n",
      "CYCLE 0: num_of_unfrozen_layers: 5 - epochs: 5 - lr: 1.0e-03 | Training Loss at end of cycle: 6.91 - Validation Accuracy: 0.77\n",
      "CYCLE 1: num_of_unfrozen_layers: 5 - epochs: 5 - lr: 1.0e-04 | Training Loss at end of cycle: 1.98 - Validation Accuracy: 0.79\n",
      "CYCLE 2: num_of_unfrozen_layers: 6 - epochs: 20 - lr: 5.0e-05 | Training Loss at end of cycle: 1.62 - Validation Accuracy: 0.83\n",
      "CYCLE 3: num_of_unfrozen_layers: 7 - epochs: 15 - lr: 5.0e-05 | Training Loss at end of cycle: 1.55 - Validation Accuracy: 0.81\n",
      "Learning attempt 5\n",
      "CYCLE 0: num_of_unfrozen_layers: 5 - epochs: 5 - lr: 1.0e-03 | Training Loss at end of cycle: 7.15 - Validation Accuracy: 0.82\n",
      "CYCLE 1: num_of_unfrozen_layers: 5 - epochs: 5 - lr: 1.0e-04 | Training Loss at end of cycle: 2.07 - Validation Accuracy: 0.79\n",
      "CYCLE 2: num_of_unfrozen_layers: 6 - epochs: 20 - lr: 5.0e-05 | Training Loss at end of cycle: 1.67 - Validation Accuracy: 0.81\n",
      "CYCLE 3: num_of_unfrozen_layers: 7 - epochs: 15 - lr: 5.0e-05 | Training Loss at end of cycle: 1.69 - Validation Accuracy: 0.78\n",
      "Best result from attempt 3\n",
      "              precision    recall  f1-score   support\n",
      "\n",
      "   cardboard       0.88      0.86      0.87        57\n",
      "       glass       0.84      0.81      0.83        59\n",
      "       metal       0.86      0.74      0.79        73\n",
      "       paper       0.81      0.89      0.84        89\n",
      "     plastic       0.76      0.80      0.78        81\n",
      "\n",
      "    accuracy                           0.82       359\n",
      "   macro avg       0.83      0.82      0.82       359\n",
      "weighted avg       0.82      0.82      0.82       359\n",
      "\n",
      "    ==== 5.0% of the training data used ==== \n",
      "\n",
      "Learning attempt 1\n",
      "CYCLE 0: num_of_unfrozen_layers: 5 - epochs: 5 - lr: 1.0e-03 | Training Loss at end of cycle: 13.30 - Validation Accuracy: 0.73\n",
      "CYCLE 1: num_of_unfrozen_layers: 5 - epochs: 5 - lr: 1.0e-04 | Training Loss at end of cycle: 12.10 - Validation Accuracy: 0.59\n",
      "CYCLE 2: num_of_unfrozen_layers: 6 - epochs: 20 - lr: 5.0e-05 | Training Loss at end of cycle: 10.48 - Validation Accuracy: 0.67\n",
      "CYCLE 3: num_of_unfrozen_layers: 7 - epochs: 15 - lr: 1.0e-05 | Training Loss at end of cycle: 10.17 - Validation Accuracy: 0.68\n",
      "Learning attempt 2\n",
      "CYCLE 0: num_of_unfrozen_layers: 5 - epochs: 5 - lr: 1.0e-03 | Training Loss at end of cycle: 13.21 - Validation Accuracy: 0.66\n",
      "CYCLE 1: num_of_unfrozen_layers: 5 - epochs: 5 - lr: 1.0e-04 | Training Loss at end of cycle: 11.64 - Validation Accuracy: 0.55\n",
      "CYCLE 2: num_of_unfrozen_layers: 6 - epochs: 20 - lr: 5.0e-05 | Training Loss at end of cycle: 10.08 - Validation Accuracy: 0.65\n",
      "CYCLE 3: num_of_unfrozen_layers: 7 - epochs: 15 - lr: 1.0e-05 | Training Loss at end of cycle: 10.10 - Validation Accuracy: 0.68\n",
      "Learning diverged, stopped.\n",
      "Learning attempt 3\n",
      "CYCLE 0: num_of_unfrozen_layers: 5 - epochs: 5 - lr: 1.0e-03 | Training Loss at end of cycle: 12.98 - Validation Accuracy: 0.60\n",
      "CYCLE 1: num_of_unfrozen_layers: 5 - epochs: 5 - lr: 1.0e-04 | Training Loss at end of cycle: 11.66 - Validation Accuracy: 0.67\n",
      "CYCLE 2: num_of_unfrozen_layers: 6 - epochs: 20 - lr: 5.0e-05 | Training Loss at end of cycle: 10.13 - Validation Accuracy: 0.69\n",
      "CYCLE 3: num_of_unfrozen_layers: 7 - epochs: 15 - lr: 1.0e-05 | Training Loss at end of cycle: 9.84 - Validation Accuracy: 0.70\n",
      "Learning attempt 4\n",
      "CYCLE 0: num_of_unfrozen_layers: 5 - epochs: 5 - lr: 1.0e-03 | Training Loss at end of cycle: 13.19 - Validation Accuracy: 0.73\n",
      "CYCLE 1: num_of_unfrozen_layers: 5 - epochs: 5 - lr: 1.0e-04 | Training Loss at end of cycle: 11.60 - Validation Accuracy: 0.59\n",
      "CYCLE 2: num_of_unfrozen_layers: 6 - epochs: 20 - lr: 5.0e-05 | Training Loss at end of cycle: 10.31 - Validation Accuracy: 0.67\n",
      "CYCLE 3: num_of_unfrozen_layers: 7 - epochs: 15 - lr: 1.0e-05 | Training Loss at end of cycle: 10.14 - Validation Accuracy: 0.66\n",
      "Learning attempt 5\n",
      "CYCLE 0: num_of_unfrozen_layers: 5 - epochs: 5 - lr: 1.0e-03 | Training Loss at end of cycle: 13.03 - Validation Accuracy: 0.62\n",
      "CYCLE 1: num_of_unfrozen_layers: 5 - epochs: 5 - lr: 1.0e-04 | Training Loss at end of cycle: 11.19 - Validation Accuracy: 0.65\n",
      "CYCLE 2: num_of_unfrozen_layers: 6 - epochs: 20 - lr: 5.0e-05 | Training Loss at end of cycle: 9.97 - Validation Accuracy: 0.70\n",
      "CYCLE 3: num_of_unfrozen_layers: 7 - epochs: 15 - lr: 1.0e-05 | Training Loss at end of cycle: 9.66 - Validation Accuracy: 0.74\n",
      "Best result from attempt 5\n",
      "              precision    recall  f1-score   support\n",
      "\n",
      "   cardboard       0.78      0.68      0.73        57\n",
      "       glass       0.73      0.63      0.67        59\n",
      "       metal       0.64      0.86      0.73        73\n",
      "       paper       0.83      0.78      0.80        89\n",
      "     plastic       0.79      0.74      0.76        81\n",
      "\n",
      "    accuracy                           0.75       359\n",
      "   macro avg       0.75      0.74      0.74       359\n",
      "weighted avg       0.76      0.75      0.75       359\n",
      "\n"
     ]
    }
   ],
   "source": [
    "for fraction in fractions:\n",
    "    print(f\"    ==== {fraction * 100}% of the training data used ==== \\n\")\n",
    "    SimCLR.train_NL_and_evaluate(dfs = dfs,\n",
    "                                batch_size = batch_size_classifier,\n",
    "                                params_generator = params_generator_classifier,\n",
    "                                fraction = fraction,\n",
    "                                class_labels = class_labels,\n",
    "                                reg_dense = params_training_classifier[str(fraction)][\"reg_dense\"],\n",
    "                                reg_out = params_training_classifier[str(fraction)][\"reg_out\"],\n",
    "                                nums_of_unfrozen_layers = params_training_classifier[str(fraction)][\"nums_of_unfrozen_layers\"],\n",
    "                                lrs = params_training_classifier[str(fraction)][\"lrs\"],\n",
    "                                epochs = params_training_classifier[str(fraction)][\"epochs\"],\n",
    "                                verbose_epoch = 0,\n",
    "                                verbose_cycle = 0\n",
    "                                )"
   ]
  },
  {
   "cell_type": "code",
   "execution_count": 43,
   "metadata": {},
   "outputs": [
    {
     "data": {
      "image/png": "[encoded data removed]",
      "text/plain": [
       "<Figure size 432x432 with 1 Axes>"
      ]
     },
     "metadata": {
      "needs_background": "light"
     },
     "output_type": "display_data"
    }
   ],
   "source": [
    "tSNE_vis(df_train, features_train, class_labels)"
   ]
  },
  {
   "cell_type": "markdown",
   "metadata": {},
   "source": [
    "# SimCLR - Round 2: Unfreeze last convolutional layer"
   ]
  },
  {
   "cell_type": "code",
   "execution_count": 26,
   "metadata": {},
   "outputs": [],
   "source": [
    "y_predict_test_before = y_predict_test_after"
   ]
  },
  {
   "cell_type": "markdown",
   "metadata": {},
   "source": [
    "## Training SimCLR"
   ]
  },
  {
   "cell_type": "code",
   "execution_count": 34,
   "metadata": {},
   "outputs": [
    {
     "name": "stdout",
     "output_type": "stream",
     "text": [
      "trainable parameters: 6.82 M.\n",
      "non-trainable parameters: 12.35 M.\n",
      "Train for 53 steps, validate for 12 steps\n",
      "Epoch 1/5\n",
      "52/53 [============================>.] - ETA: 0s - loss: 63.1003 - binary_accuracy: 0.9998\n",
      "Epoch 00001: val_loss improved from inf to 53.87106, saving model to //mmdetection/notebooks/Trashnet/repo/models/trashnet/SimCLR/SimCLR_07_22_09h_29.h5\n",
      "53/53 [==============================] - 65s 1s/step - loss: 62.9327 - binary_accuracy: 0.9998 - val_loss: 53.8711 - val_binary_accuracy: 0.9998\n",
      "Epoch 2/5\n",
      "52/53 [============================>.] - ETA: 0s - loss: 46.4392 - binary_accuracy: 0.9998\n",
      "Epoch 00002: val_loss improved from 53.87106 to 38.98457, saving model to //mmdetection/notebooks/Trashnet/repo/models/trashnet/SimCLR/SimCLR_07_22_09h_29.h5\n",
      "53/53 [==============================] - 40s 754ms/step - loss: 46.3047 - binary_accuracy: 0.9998 - val_loss: 38.9846 - val_binary_accuracy: 0.9991\n",
      "Epoch 3/5\n",
      "52/53 [============================>.] - ETA: 0s - loss: 33.1485 - binary_accuracy: 0.9998\n",
      "Epoch 00003: val_loss improved from 38.98457 to 27.37152, saving model to //mmdetection/notebooks/Trashnet/repo/models/trashnet/SimCLR/SimCLR_07_22_09h_29.h5\n",
      "53/53 [==============================] - 40s 751ms/step - loss: 33.0443 - binary_accuracy: 0.9998 - val_loss: 27.3715 - val_binary_accuracy: 0.9995\n",
      "Epoch 4/5\n",
      "52/53 [============================>.] - ETA: 0s - loss: 23.1443 - binary_accuracy: 0.9998\n",
      "Epoch 00004: val_loss improved from 27.37152 to 19.11918, saving model to //mmdetection/notebooks/Trashnet/repo/models/trashnet/SimCLR/SimCLR_07_22_09h_29.h5\n",
      "53/53 [==============================] - 40s 747ms/step - loss: 23.0721 - binary_accuracy: 0.9999 - val_loss: 19.1192 - val_binary_accuracy: 0.9996\n",
      "Epoch 5/5\n",
      "52/53 [============================>.] - ETA: 0s - loss: 16.5678 - binary_accuracy: 0.9998\n",
      "Epoch 00005: val_loss improved from 19.11918 to 14.22902, saving model to //mmdetection/notebooks/Trashnet/repo/models/trashnet/SimCLR/SimCLR_07_22_09h_29.h5\n",
      "53/53 [==============================] - 39s 742ms/step - loss: 16.5260 - binary_accuracy: 0.9998 - val_loss: 14.2290 - val_binary_accuracy: 0.9999\n",
      "trainable parameters: 6.82 M.\n",
      "non-trainable parameters: 12.35 M.\n"
     ]
    }
   ],
   "source": [
    "#Unfreeze\n",
    "SimCLR.unfreeze_and_train(data_train, data_val, num_of_unfrozen_layers = 2, r = 2, lr = 5e-5, epochs = 5)   "
   ]
  },
  {
   "cell_type": "code",
   "execution_count": 28,
   "metadata": {},
   "outputs": [],
   "source": [
    "y_predict_test_after = SimCLR.predict(data_test)"
   ]
  },
  {
   "cell_type": "markdown",
   "metadata": {},
   "source": [
    "## SimCLR-output check"
   ]
  },
  {
   "cell_type": "code",
   "execution_count": 29,
   "metadata": {},
   "outputs": [
    {
     "name": "stdout",
     "output_type": "stream",
     "text": [
      "Random guess accuracy: 0.0156\n",
      "accuracy - test - before: 0.92\n",
      "accuracy - test - after: 0.93\n"
     ]
    }
   ],
   "source": [
    "print(f\"Random guess accuracy: {round(1/(2*batch_size),4)}\")\n",
    "\n",
    "print(f\"accuracy - test - before: {np.round(np.sum(data_test[0][1] * y_predict_test_before[:batch_size])/(2*batch_size),2)}\")\n",
    "print(f\"accuracy - test - after: {np.round(np.sum(data_test[0][1] * y_predict_test_after[:batch_size])/(2*batch_size),2)}\")"
   ]
  },
  {
   "cell_type": "code",
   "execution_count": 30,
   "metadata": {},
   "outputs": [
    {
     "name": "stdout",
     "output_type": "stream",
     "text": [
      "y_predict_test_before\n",
      "0.98 | 0.34 | 0.94 | 0.92 | 0.94 | 0.98 | 0.99 | 0.92 | 0.91 | 0.82 | 0.77 | 0.97 | 0.99 | 1.0 | 0.94 | \n",
      "\n",
      "y_predict_test_after\n",
      "0.96 | 0.85 | 0.98 | 0.95 | 0.97 | 0.92 | 0.96 | 0.92 | 0.93 | 0.95 | 0.88 | 0.9 | 0.95 | 0.99 | 0.88 | "
     ]
    }
   ],
   "source": [
    "print(\"y_predict_test_before\")\n",
    "for i in range(min(batch_size, 15)):\n",
    "    print(np.round(y_predict_test_before[i][i],2), end=\" | \")\n",
    "print(\"\\n\")    \n",
    "print(\"y_predict_test_after\")\n",
    "for i in range(min(batch_size, 15)):\n",
    "    print(np.round(y_predict_test_after[i][i],2), end=\" | \")"
   ]
  },
  {
   "cell_type": "markdown",
   "metadata": {},
   "source": [
    "## Feature Evaluation"
   ]
  },
  {
   "cell_type": "markdown",
   "metadata": {},
   "source": [
    "### Logisitic regression"
   ]
  },
  {
   "cell_type": "code",
   "execution_count": 35,
   "metadata": {},
   "outputs": [],
   "source": [
    "base_model = SimCLR.base_model\n",
    "fractions = [1.0, 0.2, 0.05]"
   ]
  },
  {
   "cell_type": "code",
   "execution_count": 36,
   "metadata": {},
   "outputs": [
    {
     "data": {
      "text/plain": [
       "481"
      ]
     },
     "execution_count": 36,
     "metadata": {},
     "output_type": "execute_result"
    }
   ],
   "source": [
    "features_train, y_train, feats = get_features(base_model, df_train, class_labels)\n",
    "features_test, y_test, feats = get_features(base_model, df_test, class_labels)\n",
    "np.count_nonzero(features_train[0])"
   ]
  },
  {
   "cell_type": "code",
   "execution_count": 37,
   "metadata": {},
   "outputs": [
    {
     "name": "stdout",
     "output_type": "stream",
     "text": [
      "    ==== 100.0% of the training data used ==== \n",
      "\n",
      "Accuracy on test: 0.8 \n",
      "\n",
      "              precision    recall  f1-score   support\n",
      "\n",
      "   cardboard       0.86      0.86      0.86        57\n",
      "       glass       0.71      0.76      0.74        59\n",
      "       metal       0.78      0.78      0.78        73\n",
      "       paper       0.84      0.88      0.86        89\n",
      "     plastic       0.78      0.70      0.74        81\n",
      "\n",
      "    accuracy                           0.80       359\n",
      "   macro avg       0.79      0.80      0.80       359\n",
      "weighted avg       0.80      0.80      0.80       359\n",
      "\n",
      "    ==== 20.0% of the training data used ==== \n",
      "\n",
      "Accuracy on test: 0.71 \n",
      "\n",
      "              precision    recall  f1-score   support\n",
      "\n",
      "   cardboard       0.84      0.82      0.83        57\n",
      "       glass       0.55      0.66      0.60        59\n",
      "       metal       0.69      0.56      0.62        73\n",
      "       paper       0.75      0.84      0.79        89\n",
      "     plastic       0.74      0.67      0.70        81\n",
      "\n",
      "    accuracy                           0.71       359\n",
      "   macro avg       0.71      0.71      0.71       359\n",
      "weighted avg       0.72      0.71      0.71       359\n",
      "\n",
      "    ==== 5.0% of the training data used ==== \n",
      "\n",
      "Accuracy on test: 0.61 \n",
      "\n",
      "              precision    recall  f1-score   support\n",
      "\n",
      "   cardboard       0.85      0.70      0.77        57\n",
      "       glass       0.49      0.53      0.51        59\n",
      "       metal       0.54      0.34      0.42        73\n",
      "       paper       0.64      0.80      0.71        89\n",
      "     plastic       0.55      0.63      0.59        81\n",
      "\n",
      "    accuracy                           0.61       359\n",
      "   macro avg       0.62      0.60      0.60       359\n",
      "weighted avg       0.61      0.61      0.60       359\n",
      "\n"
     ]
    }
   ],
   "source": [
    "# Training logistic regression classifier on 3 fractions of the data\n",
    "# Optimal regularization is determined from a 5-fold cross-validation\n",
    "for fraction in fractions:\n",
    "    print(f\"    ==== {fraction * 100}% of the training data used ==== \\n\")\n",
    "    linear_classifier(features_train, y_train, features_test, y_test, class_labels, fraction = fraction)"
   ]
  },
  {
   "cell_type": "markdown",
   "metadata": {},
   "source": [
    "### Fine tuned model"
   ]
  },
  {
   "cell_type": "code",
   "execution_count": 38,
   "metadata": {},
   "outputs": [],
   "source": [
    "batch_size_classifier = 32\n",
    "params_generator_classifier = {'max_width':width_img,\n",
    "                            'max_height': height_img,\n",
    "                            'num_classes': num_classes,\n",
    "                            'VGG': True\n",
    "                            }\n",
    "params_training_classifier = {'1.0':{\n",
    "                                \"reg_dense\" : 0.005,\n",
    "                                \"reg_out\" : 0.005,\n",
    "                                \"nums_of_unfrozen_layers\" : [5, 5, 6, 7],\n",
    "                                \"lrs\" : [1e-3, 1e-4, 5e-5, 5e-5],\n",
    "                                \"epochs\" : [5, 5, 15, 10]\n",
    "                                },\n",
    "                              '0.2':{\n",
    "                                \"reg_dense\" : 0.075,\n",
    "                                \"reg_out\" : 0.01,\n",
    "                                \"nums_of_unfrozen_layers\" : [5, 5, 6, 7],\n",
    "                                \"lrs\" : [1e-3, 1e-4, 5e-5, 5e-5],\n",
    "                                \"epochs\" : [5, 5, 20, 15]\n",
    "                              },\n",
    "                              '0.05':{\n",
    "                                \"reg_dense\" : 0.01,\n",
    "                                \"reg_out\" : 0.02,\n",
    "                                \"nums_of_unfrozen_layers\" : [5, 5, 6, 7],\n",
    "                                \"lrs\" : [1e-3, 1e-4, 5e-5, 1e-5],\n",
    "                                \"epochs\" : [5, 5, 20, 15]\n",
    "                              }                              \n",
    "                            }"
   ]
  },
  {
   "cell_type": "code",
   "execution_count": 39,
   "metadata": {},
   "outputs": [
    {
     "name": "stdout",
     "output_type": "stream",
     "text": [
      "    ==== 100.0% of the training data used ==== \n",
      "\n",
      "Learning attempt 1\n",
      "CYCLE 0: num_of_unfrozen_layers: 5 - epochs: 5 - lr: 1.0e-03 | Training Loss at end of cycle: 0.70- Training Acc: 0.98- Validation Acc: 0.80\n",
      "CYCLE 1: num_of_unfrozen_layers: 5 - epochs: 5 - lr: 1.0e-04 | Training Loss at end of cycle: 0.48- Training Acc: 0.99- Validation Acc: 0.82\n",
      "CYCLE 2: num_of_unfrozen_layers: 6 - epochs: 15 - lr: 5.0e-05 | Training Loss at end of cycle: 0.40- Training Acc: 1.00- Validation Acc: 0.85\n",
      "CYCLE 3: num_of_unfrozen_layers: 7 - epochs: 10 - lr: 5.0e-05 | Training Loss at end of cycle: 0.37- Training Acc: 1.00- Validation Acc: 0.84\n",
      "Learning attempt 2\n",
      "CYCLE 0: num_of_unfrozen_layers: 5 - epochs: 5 - lr: 1.0e-03 | Training Loss at end of cycle: 0.67- Training Acc: 0.96- Validation Acc: 0.80\n",
      "CYCLE 1: num_of_unfrozen_layers: 5 - epochs: 5 - lr: 1.0e-04 | Training Loss at end of cycle: 0.44- Training Acc: 1.00- Validation Acc: 0.84\n",
      "CYCLE 2: num_of_unfrozen_layers: 6 - epochs: 15 - lr: 5.0e-05 | Training Loss at end of cycle: 0.39- Training Acc: 1.00- Validation Acc: 0.84\n",
      "CYCLE 3: num_of_unfrozen_layers: 7 - epochs: 10 - lr: 5.0e-05 | Training Loss at end of cycle: 0.37- Training Acc: 1.00- Validation Acc: 0.84\n",
      "Learning attempt 3\n",
      "CYCLE 0: num_of_unfrozen_layers: 5 - epochs: 5 - lr: 1.0e-03 | Training Loss at end of cycle: 0.52- Training Acc: 0.99- Validation Acc: 0.82\n",
      "CYCLE 1: num_of_unfrozen_layers: 5 - epochs: 5 - lr: 1.0e-04 | Training Loss at end of cycle: 0.41- Training Acc: 0.99- Validation Acc: 0.84\n",
      "Learning diverged, stopped.\n",
      "Learning attempt 4\n",
      "CYCLE 0: num_of_unfrozen_layers: 5 - epochs: 5 - lr: 1.0e-03 | Training Loss at end of cycle: 0.50- Training Acc: 1.00- Validation Acc: 0.85\n",
      "CYCLE 1: num_of_unfrozen_layers: 5 - epochs: 5 - lr: 1.0e-04 | Training Loss at end of cycle: 0.33- Training Acc: 1.00- Validation Acc: 0.86\n",
      "CYCLE 2: num_of_unfrozen_layers: 6 - epochs: 15 - lr: 5.0e-05 | Training Loss at end of cycle: 0.31- Training Acc: 1.00- Validation Acc: 0.86\n",
      "CYCLE 3: num_of_unfrozen_layers: 7 - epochs: 10 - lr: 5.0e-05 | Training Loss at end of cycle: 0.35- Training Acc: 1.00- Validation Acc: 0.86\n",
      "Learning attempt 5\n",
      "CYCLE 0: num_of_unfrozen_layers: 5 - epochs: 5 - lr: 1.0e-03 | Training Loss at end of cycle: 0.40- Training Acc: 1.00- Validation Acc: 0.83\n",
      "CYCLE 1: num_of_unfrozen_layers: 5 - epochs: 5 - lr: 1.0e-04 | Training Loss at end of cycle: 0.33- Training Acc: 1.00- Validation Acc: 0.13\n",
      "Learning diverged, stopped.\n",
      "Best result from attempt 2\n",
      "              precision    recall  f1-score   support\n",
      "\n",
      "   cardboard       0.94      0.89      0.92        57\n",
      "       glass       0.79      0.78      0.79        59\n",
      "       metal       0.81      0.88      0.84        73\n",
      "       paper       0.85      0.92      0.88        89\n",
      "     plastic       0.82      0.72      0.76        81\n",
      "\n",
      "    accuracy                           0.84       359\n",
      "   macro avg       0.84      0.84      0.84       359\n",
      "weighted avg       0.84      0.84      0.84       359\n",
      "\n",
      "    ==== 20.0% of the training data used ==== \n",
      "\n",
      "Learning attempt 1\n",
      "CYCLE 0: num_of_unfrozen_layers: 5 - epochs: 5 - lr: 1.0e-03 | Training Loss at end of cycle: 7.55- Training Acc: 0.96- Validation Acc: 0.78\n",
      "Learning diverged, stopped.\n",
      "Learning attempt 2\n",
      "CYCLE 0: num_of_unfrozen_layers: 5 - epochs: 5 - lr: 1.0e-03 | Training Loss at end of cycle: 7.32- Training Acc: 1.00- Validation Acc: 0.86\n",
      "CYCLE 1: num_of_unfrozen_layers: 5 - epochs: 5 - lr: 1.0e-04 | Training Loss at end of cycle: 2.00- Training Acc: 0.96- Validation Acc: 0.85\n",
      "CYCLE 2: num_of_unfrozen_layers: 6 - epochs: 20 - lr: 5.0e-05 | Training Loss at end of cycle: 1.56- Training Acc: 0.97- Validation Acc: 0.85\n",
      "CYCLE 3: num_of_unfrozen_layers: 7 - epochs: 15 - lr: 5.0e-05 | Training Loss at end of cycle: 1.56- Training Acc: 1.00- Validation Acc: 0.86\n",
      "Learning attempt 3\n",
      "CYCLE 0: num_of_unfrozen_layers: 5 - epochs: 5 - lr: 1.0e-03 | Training Loss at end of cycle: 7.03- Training Acc: 0.96- Validation Acc: 0.80\n",
      "CYCLE 1: num_of_unfrozen_layers: 5 - epochs: 5 - lr: 1.0e-04 | Training Loss at end of cycle: 2.01- Training Acc: 1.00- Validation Acc: 0.83\n",
      "CYCLE 2: num_of_unfrozen_layers: 6 - epochs: 20 - lr: 5.0e-05 | Training Loss at end of cycle: 1.71- Training Acc: 1.00- Validation Acc: 0.82\n",
      "Learning diverged, stopped.\n",
      "Learning attempt 4\n",
      "CYCLE 0: num_of_unfrozen_layers: 5 - epochs: 5 - lr: 1.0e-03 | Training Loss at end of cycle: 7.22- Training Acc: 0.96- Validation Acc: 0.82\n",
      "CYCLE 1: num_of_unfrozen_layers: 5 - epochs: 5 - lr: 1.0e-04 | Training Loss at end of cycle: 2.07- Training Acc: 0.96- Validation Acc: 0.81\n",
      "CYCLE 2: num_of_unfrozen_layers: 6 - epochs: 20 - lr: 5.0e-05 | Training Loss at end of cycle: 1.73- Training Acc: 1.00- Validation Acc: 0.85\n",
      "CYCLE 3: num_of_unfrozen_layers: 7 - epochs: 15 - lr: 5.0e-05 | Training Loss at end of cycle: 1.66- Training Acc: 1.00- Validation Acc: 0.85\n",
      "Learning attempt 5\n",
      "CYCLE 0: num_of_unfrozen_layers: 5 - epochs: 5 - lr: 1.0e-03 | Training Loss at end of cycle: 7.29- Training Acc: 0.97- Validation Acc: 0.80\n",
      "CYCLE 1: num_of_unfrozen_layers: 5 - epochs: 5 - lr: 1.0e-04 | Training Loss at end of cycle: 2.01- Training Acc: 1.00- Validation Acc: 0.77\n",
      "CYCLE 2: num_of_unfrozen_layers: 6 - epochs: 20 - lr: 5.0e-05 | Training Loss at end of cycle: 1.63- Training Acc: 1.00- Validation Acc: 0.76\n",
      "CYCLE 3: num_of_unfrozen_layers: 7 - epochs: 15 - lr: 5.0e-05 | Training Loss at end of cycle: 1.59- Training Acc: 1.00- Validation Acc: 0.78\n",
      "Best result from attempt 4\n",
      "              precision    recall  f1-score   support\n",
      "\n",
      "   cardboard       0.92      0.86      0.89        57\n",
      "       glass       0.85      0.76      0.80        59\n",
      "       metal       0.78      0.85      0.82        73\n",
      "       paper       0.86      0.90      0.88        89\n",
      "     plastic       0.80      0.80      0.80        81\n",
      "\n",
      "    accuracy                           0.84       359\n",
      "   macro avg       0.84      0.83      0.84       359\n",
      "weighted avg       0.84      0.84      0.84       359\n",
      "\n",
      "    ==== 5.0% of the training data used ==== \n",
      "\n",
      "Learning attempt 1\n",
      "CYCLE 0: num_of_unfrozen_layers: 5 - epochs: 5 - lr: 1.0e-03 | Training Loss at end of cycle: 14.04- Training Acc: 1.00- Validation Acc: 0.72\n",
      "CYCLE 1: num_of_unfrozen_layers: 5 - epochs: 5 - lr: 1.0e-04 | Training Loss at end of cycle: 12.43- Training Acc: 0.97- Validation Acc: 0.63\n",
      "CYCLE 2: num_of_unfrozen_layers: 6 - epochs: 20 - lr: 5.0e-05 | Training Loss at end of cycle: 11.28- Training Acc: 1.00- Validation Acc: 0.69\n",
      "CYCLE 3: num_of_unfrozen_layers: 7 - epochs: 15 - lr: 1.0e-05 | Training Loss at end of cycle: 11.08- Training Acc: 1.00- Validation Acc: 0.68\n",
      "Learning diverged, stopped.\n",
      "Learning attempt 2\n",
      "CYCLE 0: num_of_unfrozen_layers: 5 - epochs: 5 - lr: 1.0e-03 | Training Loss at end of cycle: 13.69- Training Acc: 1.00- Validation Acc: 0.67\n",
      "CYCLE 1: num_of_unfrozen_layers: 5 - epochs: 5 - lr: 1.0e-04 | Training Loss at end of cycle: 12.16- Training Acc: 1.00- Validation Acc: 0.60\n",
      "CYCLE 2: num_of_unfrozen_layers: 6 - epochs: 20 - lr: 5.0e-05 | Training Loss at end of cycle: 10.95- Training Acc: 1.00- Validation Acc: 0.73\n",
      "CYCLE 3: num_of_unfrozen_layers: 7 - epochs: 15 - lr: 1.0e-05 | Training Loss at end of cycle: 10.81- Training Acc: 1.00- Validation Acc: 0.74\n",
      "Learning attempt 3\n",
      "CYCLE 0: num_of_unfrozen_layers: 5 - epochs: 5 - lr: 1.0e-03 | Training Loss at end of cycle: 13.43- Training Acc: 0.91- Validation Acc: 0.60\n",
      "CYCLE 1: num_of_unfrozen_layers: 5 - epochs: 5 - lr: 1.0e-04 | Training Loss at end of cycle: 11.77- Training Acc: 1.00- Validation Acc: 0.60\n",
      "CYCLE 2: num_of_unfrozen_layers: 6 - epochs: 20 - lr: 5.0e-05 | Training Loss at end of cycle: 10.64- Training Acc: 1.00- Validation Acc: 0.67\n",
      "CYCLE 3: num_of_unfrozen_layers: 7 - epochs: 15 - lr: 1.0e-05 | Training Loss at end of cycle: 10.39- Training Acc: 1.00- Validation Acc: 0.70\n",
      "Learning attempt 4\n",
      "CYCLE 0: num_of_unfrozen_layers: 5 - epochs: 5 - lr: 1.0e-03 | Training Loss at end of cycle: 13.75- Training Acc: 1.00- Validation Acc: 0.53\n",
      "Learning diverged, stopped.\n",
      "Learning attempt 5\n",
      "CYCLE 0: num_of_unfrozen_layers: 5 - epochs: 5 - lr: 1.0e-03 | Training Loss at end of cycle: 13.43- Training Acc: 0.88- Validation Acc: 0.44\n",
      "CYCLE 1: num_of_unfrozen_layers: 5 - epochs: 5 - lr: 1.0e-04 | Training Loss at end of cycle: 12.78- Training Acc: 0.90- Validation Acc: 0.51\n",
      "CYCLE 2: num_of_unfrozen_layers: 6 - epochs: 20 - lr: 5.0e-05 | Training Loss at end of cycle: 10.97- Training Acc: 0.99- Validation Acc: 0.67\n",
      "CYCLE 3: num_of_unfrozen_layers: 7 - epochs: 15 - lr: 1.0e-05 | Training Loss at end of cycle: 10.71- Training Acc: 0.99- Validation Acc: 0.71\n",
      "Best result from attempt 2\n",
      "              precision    recall  f1-score   support\n",
      "\n",
      "   cardboard       1.00      0.70      0.82        57\n",
      "       glass       0.65      0.66      0.66        59\n",
      "       metal       0.73      0.74      0.73        73\n",
      "       paper       0.86      0.78      0.82        89\n",
      "     plastic       0.68      0.88      0.76        81\n",
      "\n",
      "    accuracy                           0.76       359\n",
      "   macro avg       0.78      0.75      0.76       359\n",
      "weighted avg       0.78      0.76      0.76       359\n",
      "\n"
     ]
    }
   ],
   "source": [
    "for fraction in fractions:    \n",
    "    print(f\"    ==== {fraction * 100}% of the training data used ==== \\n\")\n",
    "    SimCLR.train_NL_and_evaluate(dfs = dfs,\n",
    "                                batch_size = batch_size_classifier,\n",
    "                                params_generator = params_generator_classifier,\n",
    "                                fraction = fraction,\n",
    "                                class_labels = class_labels,\n",
    "                                reg_dense = params_training_classifier[str(fraction)][\"reg_dense\"],\n",
    "                                reg_out = params_training_classifier[str(fraction)][\"reg_out\"],\n",
    "                                nums_of_unfrozen_layers = params_training_classifier[str(fraction)][\"nums_of_unfrozen_layers\"],\n",
    "                                lrs = params_training_classifier[str(fraction)][\"lrs\"],\n",
    "                                epochs = params_training_classifier[str(fraction)][\"epochs\"],\n",
    "                                verbose_epoch = 0,\n",
    "                                verbose_cycle = 0\n",
    "                                )"
   ]
  },
  {
   "cell_type": "code",
   "execution_count": 40,
   "metadata": {},
   "outputs": [
    {
     "data": {
      "image/png": "[encoded data removed]",
      "text/plain": [
       "<Figure size 432x432 with 1 Axes>"
      ]
     },
     "metadata": {
      "needs_background": "light"
     },
     "output_type": "display_data"
    }
   ],
   "source": [
    "tSNE_vis(df_train, features_train, class_labels)"
   ]
  },
  {
   "cell_type": "markdown",
   "metadata": {},
   "source": [
    "# SimCLR - Round 3: Unfreeze 2 last convolutional layer"
   ]
  },
  {
   "cell_type": "code",
   "execution_count": 20,
   "metadata": {},
   "outputs": [
    {
     "ename": "NameError",
     "evalue": "name 'y_predict_test_after' is not defined",
     "output_type": "error",
     "traceback": [
      "\u001b[0;31m---------------------------------------------------------------------------\u001b[0m",
      "\u001b[0;31mNameError\u001b[0m                                 Traceback (most recent call last)",
      "\u001b[0;32m<ipython-input-20-af7b8d870713>\u001b[0m in \u001b[0;36m<module>\u001b[0;34m\u001b[0m\n\u001b[0;32m----> 1\u001b[0;31m \u001b[0my_predict_test_before\u001b[0m \u001b[0;34m=\u001b[0m \u001b[0my_predict_test_after\u001b[0m\u001b[0;34m\u001b[0m\u001b[0;34m\u001b[0m\u001b[0m\n\u001b[0m",
      "\u001b[0;31mNameError\u001b[0m: name 'y_predict_test_after' is not defined"
     ]
    }
   ],
   "source": [
    "y_predict_test_before = y_predict_test_after"
   ]
  },
  {
   "cell_type": "markdown",
   "metadata": {},
   "source": [
    "## Training SimCLR"
   ]
  },
  {
   "cell_type": "code",
   "execution_count": 41,
   "metadata": {},
   "outputs": [
    {
     "name": "stdout",
     "output_type": "stream",
     "text": [
      "trainable parameters: 9.18 M.\n",
      "non-trainable parameters: 10.0 M.\n",
      "Train for 53 steps, validate for 12 steps\n",
      "Epoch 1/5\n",
      "52/53 [============================>.] - ETA: 1s - loss: 15.1720 - binary_accuracy: 0.9961\n",
      "Epoch 00001: val_loss improved from inf to 14.29073, saving model to //mmdetection/notebooks/Trashnet/repo/models/trashnet/SimCLR/SimCLR_07_22_09h_41.h5\n",
      "53/53 [==============================] - 69s 1s/step - loss: 15.1566 - binary_accuracy: 0.9962 - val_loss: 14.2907 - val_binary_accuracy: 0.9989\n",
      "Epoch 2/5\n",
      "52/53 [============================>.] - ETA: 0s - loss: 14.0014 - binary_accuracy: 0.9995\n",
      "Epoch 00002: val_loss improved from 14.29073 to 13.59118, saving model to //mmdetection/notebooks/Trashnet/repo/models/trashnet/SimCLR/SimCLR_07_22_09h_41.h5\n",
      "53/53 [==============================] - 43s 809ms/step - loss: 13.9954 - binary_accuracy: 0.9995 - val_loss: 13.5912 - val_binary_accuracy: 0.9986\n",
      "Epoch 3/5\n",
      "52/53 [============================>.] - ETA: 0s - loss: 13.4155 - binary_accuracy: 0.9996\n",
      "Epoch 00003: val_loss improved from 13.59118 to 13.11713, saving model to //mmdetection/notebooks/Trashnet/repo/models/trashnet/SimCLR/SimCLR_07_22_09h_41.h5\n",
      "53/53 [==============================] - 44s 822ms/step - loss: 13.4117 - binary_accuracy: 0.9997 - val_loss: 13.1171 - val_binary_accuracy: 0.9989\n",
      "Epoch 4/5\n",
      "52/53 [============================>.] - ETA: 0s - loss: 12.9756 - binary_accuracy: 0.9996\n",
      "Epoch 00004: val_loss improved from 13.11713 to 12.71466, saving model to //mmdetection/notebooks/Trashnet/repo/models/trashnet/SimCLR/SimCLR_07_22_09h_41.h5\n",
      "53/53 [==============================] - 43s 817ms/step - loss: 12.9743 - binary_accuracy: 0.9996 - val_loss: 12.7147 - val_binary_accuracy: 0.9989\n",
      "Epoch 5/5\n",
      "52/53 [============================>.] - ETA: 0s - loss: 12.6054 - binary_accuracy: 0.9998\n",
      "Epoch 00005: val_loss improved from 12.71466 to 12.35014, saving model to //mmdetection/notebooks/Trashnet/repo/models/trashnet/SimCLR/SimCLR_07_22_09h_41.h5\n",
      "53/53 [==============================] - 44s 821ms/step - loss: 12.6026 - binary_accuracy: 0.9998 - val_loss: 12.3501 - val_binary_accuracy: 0.9996\n",
      "trainable parameters: 9.18 M.\n",
      "non-trainable parameters: 10.0 M.\n"
     ]
    }
   ],
   "source": [
    "#Unfreeze\n",
    "SimCLR.unfreeze_and_train(data_train, data_val, num_of_unfrozen_layers = 3, r = 3, lr = 1e-5, epochs = 5)   "
   ]
  },
  {
   "cell_type": "code",
   "execution_count": 42,
   "metadata": {},
   "outputs": [],
   "source": [
    "y_predict_test_after = SimCLR.predict(data_test)"
   ]
  },
  {
   "cell_type": "markdown",
   "metadata": {},
   "source": [
    "## SimCLR-output check"
   ]
  },
  {
   "cell_type": "code",
   "execution_count": null,
   "metadata": {},
   "outputs": [],
   "source": [
    "print(f\"Random guess accuracy: {round(1/(2*batch_size),2)}\")\n",
    "\n",
    "print(f\"accuracy - test - before: {np.round(np.sum(data_test[0][1] * y_predict_test_before[:batch_size])/(2*batch_size),2)}\")\n",
    "print(f\"accuracy - test - after: {np.round(np.sum(data_test[0][1] * y_predict_test_after[:batch_size])/(2*batch_size),2)}\")"
   ]
  },
  {
   "cell_type": "code",
   "execution_count": null,
   "metadata": {},
   "outputs": [],
   "source": [
    "print(\"y_predict_test_before\")\n",
    "for i in range(min(batch_size, 15)):\n",
    "    print(np.round(y_predict_test_before[i][i],2), end=\" | \")\n",
    "print(\"\\n\")    \n",
    "print(\"y_predict_test_after\")\n",
    "for i in range(min(batch_size, 15)):\n",
    "    print(np.round(y_predict_test_after[i][i],2), end=\" | \")"
   ]
  },
  {
   "cell_type": "markdown",
   "metadata": {},
   "source": [
    "## Feature Evaluation"
   ]
  },
  {
   "cell_type": "code",
   "execution_count": 43,
   "metadata": {},
   "outputs": [],
   "source": [
    "base_model = SimCLR.base_model"
   ]
  },
  {
   "cell_type": "code",
   "execution_count": 44,
   "metadata": {},
   "outputs": [
    {
     "data": {
      "text/plain": [
       "825"
      ]
     },
     "execution_count": 44,
     "metadata": {},
     "output_type": "execute_result"
    }
   ],
   "source": [
    "features_train, y_train, feats = get_features(base_model, df_train, class_labels)\n",
    "features_test, y_test, feats = get_features(base_model, df_test, class_labels)\n",
    "np.count_nonzero(features_train[0])"
   ]
  },
  {
   "cell_type": "code",
   "execution_count": 45,
   "metadata": {},
   "outputs": [
    {
     "name": "stdout",
     "output_type": "stream",
     "text": [
      "    ==== 100.0% of the training data used ==== \n",
      "\n",
      "Accuracy on test: 0.83 \n",
      "\n",
      "              precision    recall  f1-score   support\n",
      "\n",
      "   cardboard       0.88      0.81      0.84        57\n",
      "       glass       0.83      0.85      0.84        59\n",
      "       metal       0.82      0.85      0.83        73\n",
      "       paper       0.79      0.87      0.82        89\n",
      "     plastic       0.85      0.77      0.81        81\n",
      "\n",
      "    accuracy                           0.83       359\n",
      "   macro avg       0.83      0.83      0.83       359\n",
      "weighted avg       0.83      0.83      0.83       359\n",
      "\n",
      "    ==== 20.0% of the training data used ==== \n",
      "\n",
      "Accuracy on test: 0.8 \n",
      "\n",
      "              precision    recall  f1-score   support\n",
      "\n",
      "   cardboard       0.87      0.79      0.83        57\n",
      "       glass       0.77      0.78      0.77        59\n",
      "       metal       0.81      0.77      0.79        73\n",
      "       paper       0.78      0.87      0.82        89\n",
      "     plastic       0.78      0.77      0.77        81\n",
      "\n",
      "    accuracy                           0.80       359\n",
      "   macro avg       0.80      0.79      0.80       359\n",
      "weighted avg       0.80      0.80      0.80       359\n",
      "\n",
      "    ==== 5.0% of the training data used ==== \n",
      "\n",
      "Accuracy on test: 0.74 \n",
      "\n",
      "              precision    recall  f1-score   support\n",
      "\n",
      "   cardboard       0.78      0.79      0.78        57\n",
      "       glass       0.73      0.73      0.73        59\n",
      "       metal       0.77      0.67      0.72        73\n",
      "       paper       0.73      0.73      0.73        89\n",
      "     plastic       0.72      0.79      0.75        81\n",
      "\n",
      "    accuracy                           0.74       359\n",
      "   macro avg       0.74      0.74      0.74       359\n",
      "weighted avg       0.74      0.74      0.74       359\n",
      "\n"
     ]
    }
   ],
   "source": [
    "# Training logistic regression classifier on 3 fractions of the data\n",
    "# Optimal regularization is determined from a 5-fold cross-validation\n",
    "fractions = [1.0, 0.2, 0.05]\n",
    "for fraction in fractions:\n",
    "    print(f\"    ==== {fraction * 100}% of the training data used ==== \\n\")\n",
    "    linear_classifier(features_train, y_train, features_test, y_test, class_labels, fraction = fraction)"
   ]
  },
  {
   "cell_type": "markdown",
   "metadata": {},
   "source": [
    "### Fine tuned model"
   ]
  },
  {
   "cell_type": "code",
   "execution_count": 46,
   "metadata": {},
   "outputs": [],
   "source": [
    "batch_size_classifier = 32\n",
    "params_generator_classifier = {'max_width':width_img,\n",
    "                            'max_height': height_img,\n",
    "                            'num_classes': num_classes,\n",
    "                            'VGG': True\n",
    "                        }"
   ]
  },
  {
   "cell_type": "code",
   "execution_count": 47,
   "metadata": {},
   "outputs": [
    {
     "name": "stdout",
     "output_type": "stream",
     "text": [
      "    ==== 100.0% of the training data used ==== \n",
      "\n",
      "Learning attempt 1\n",
      "CYCLE 0: num_of_unfrozen_layers: 5 - epochs: 5 - lr: 1.0e-03 | Training Loss at end of cycle: 0.45- Training Acc: 1.00- Validation Acc: 0.80\n",
      "CYCLE 1: num_of_unfrozen_layers: 5 - epochs: 5 - lr: 1.0e-04 | Training Loss at end of cycle: 0.28- Training Acc: 1.00- Validation Acc: 0.81\n",
      "CYCLE 2: num_of_unfrozen_layers: 6 - epochs: 15 - lr: 5.0e-05 | Training Loss at end of cycle: 0.27- Training Acc: 1.00- Validation Acc: 0.85\n",
      "CYCLE 3: num_of_unfrozen_layers: 7 - epochs: 10 - lr: 1.0e-05 | Training Loss at end of cycle: 0.25- Training Acc: 1.00- Validation Acc: 0.84\n",
      "Learning attempt 2\n",
      "CYCLE 0: num_of_unfrozen_layers: 5 - epochs: 5 - lr: 1.0e-03 | Training Loss at end of cycle: 0.43- Training Acc: 0.99- Validation Acc: 0.81\n",
      "CYCLE 1: num_of_unfrozen_layers: 5 - epochs: 5 - lr: 1.0e-04 | Training Loss at end of cycle: 0.30- Training Acc: 1.00- Validation Acc: 0.84\n",
      "CYCLE 2: num_of_unfrozen_layers: 6 - epochs: 15 - lr: 5.0e-05 | Training Loss at end of cycle: 0.29- Training Acc: 1.00- Validation Acc: 0.84\n",
      "CYCLE 3: num_of_unfrozen_layers: 7 - epochs: 10 - lr: 1.0e-05 | Training Loss at end of cycle: 0.29- Training Acc: 1.00- Validation Acc: 0.84\n",
      "Learning attempt 3\n",
      "CYCLE 0: num_of_unfrozen_layers: 5 - epochs: 5 - lr: 1.0e-03 | Training Loss at end of cycle: 0.42- Training Acc: 1.00- Validation Acc: 0.82\n",
      "Learning diverged, stopped.\n",
      "Learning attempt 4\n",
      "CYCLE 0: num_of_unfrozen_layers: 5 - epochs: 5 - lr: 1.0e-03 | Training Loss at end of cycle: 0.45- Training Acc: 1.00- Validation Acc: 0.85\n",
      "CYCLE 1: num_of_unfrozen_layers: 5 - epochs: 5 - lr: 1.0e-04 | Training Loss at end of cycle: 0.32- Training Acc: 1.00- Validation Acc: 0.82\n",
      "CYCLE 2: num_of_unfrozen_layers: 6 - epochs: 15 - lr: 5.0e-05 | Training Loss at end of cycle: 0.29- Training Acc: 1.00- Validation Acc: 0.86\n",
      "CYCLE 3: num_of_unfrozen_layers: 7 - epochs: 10 - lr: 1.0e-05 | Training Loss at end of cycle: 0.30- Training Acc: 1.00- Validation Acc: 0.86\n",
      "Learning attempt 5\n",
      "CYCLE 0: num_of_unfrozen_layers: 5 - epochs: 5 - lr: 1.0e-03 | Training Loss at end of cycle: 0.39- Training Acc: 1.00- Validation Acc: 0.81\n",
      "CYCLE 1: num_of_unfrozen_layers: 5 - epochs: 5 - lr: 1.0e-04 | Training Loss at end of cycle: 0.29- Training Acc: 1.00- Validation Acc: 0.83\n",
      "CYCLE 2: num_of_unfrozen_layers: 6 - epochs: 15 - lr: 5.0e-05 | Training Loss at end of cycle: 0.24- Training Acc: 1.00- Validation Acc: 0.86\n",
      "CYCLE 3: num_of_unfrozen_layers: 7 - epochs: 10 - lr: 1.0e-05 | Training Loss at end of cycle: 0.27- Training Acc: 1.00- Validation Acc: 0.86\n",
      "Best result from attempt 5\n",
      "              precision    recall  f1-score   support\n",
      "\n",
      "   cardboard       0.98      0.89      0.94        57\n",
      "       glass       0.90      0.80      0.85        59\n",
      "       metal       0.81      0.89      0.85        73\n",
      "       paper       0.83      0.94      0.88        89\n",
      "     plastic       0.84      0.77      0.80        81\n",
      "\n",
      "    accuracy                           0.86       359\n",
      "   macro avg       0.87      0.86      0.86       359\n",
      "weighted avg       0.86      0.86      0.86       359\n",
      "\n",
      "    ==== 20.0% of the training data used ==== \n",
      "\n",
      "Learning attempt 1\n",
      "CYCLE 0: num_of_unfrozen_layers: 5 - epochs: 5 - lr: 1.0e-03 | Training Loss at end of cycle: 3.15- Training Acc: 0.97- Validation Acc: 0.75\n",
      "CYCLE 1: num_of_unfrozen_layers: 5 - epochs: 5 - lr: 1.0e-04 | Training Loss at end of cycle: 2.09- Training Acc: 1.00- Validation Acc: 0.77\n",
      "CYCLE 2: num_of_unfrozen_layers: 6 - epochs: 15 - lr: 5.0e-05 | Training Loss at end of cycle: 1.65- Training Acc: 1.00- Validation Acc: 0.81\n",
      "CYCLE 3: num_of_unfrozen_layers: 7 - epochs: 10 - lr: 1.0e-05 | Training Loss at end of cycle: 1.58- Training Acc: 0.97- Validation Acc: 0.81\n",
      "Learning attempt 2\n",
      "CYCLE 0: num_of_unfrozen_layers: 5 - epochs: 5 - lr: 1.0e-03 | Training Loss at end of cycle: 3.45- Training Acc: 1.00- Validation Acc: 0.80\n",
      "CYCLE 1: num_of_unfrozen_layers: 5 - epochs: 5 - lr: 1.0e-04 | Training Loss at end of cycle: 2.34- Training Acc: 1.00- Validation Acc: 0.81\n",
      "CYCLE 2: num_of_unfrozen_layers: 6 - epochs: 15 - lr: 5.0e-05 | Training Loss at end of cycle: 1.86- Training Acc: 1.00- Validation Acc: 0.80\n",
      "CYCLE 3: num_of_unfrozen_layers: 7 - epochs: 10 - lr: 1.0e-05 | Training Loss at end of cycle: 1.76- Training Acc: 1.00- Validation Acc: 0.82\n",
      "Learning attempt 3\n",
      "CYCLE 0: num_of_unfrozen_layers: 5 - epochs: 5 - lr: 1.0e-03 | Training Loss at end of cycle: 2.92- Training Acc: 1.00- Validation Acc: 0.79\n",
      "CYCLE 1: num_of_unfrozen_layers: 5 - epochs: 5 - lr: 1.0e-04 | Training Loss at end of cycle: 2.07- Training Acc: 0.96- Validation Acc: 0.77\n",
      "CYCLE 2: num_of_unfrozen_layers: 6 - epochs: 15 - lr: 5.0e-05 | Training Loss at end of cycle: 1.53- Training Acc: 1.00- Validation Acc: 0.78\n",
      "CYCLE 3: num_of_unfrozen_layers: 7 - epochs: 10 - lr: 1.0e-05 | Training Loss at end of cycle: 1.34- Training Acc: 1.00- Validation Acc: 0.78\n",
      "Learning attempt 4\n",
      "CYCLE 0: num_of_unfrozen_layers: 5 - epochs: 5 - lr: 1.0e-03 | Training Loss at end of cycle: 7.58- Training Acc: 1.00- Validation Acc: 0.78\n",
      "CYCLE 1: num_of_unfrozen_layers: 5 - epochs: 5 - lr: 1.0e-04 | Training Loss at end of cycle: 7.64- Training Acc: 1.00- Validation Acc: 0.76\n",
      "CYCLE 2: num_of_unfrozen_layers: 6 - epochs: 15 - lr: 5.0e-05 | Training Loss at end of cycle: 7.30- Training Acc: 1.00- Validation Acc: 0.80\n",
      "CYCLE 3: num_of_unfrozen_layers: 7 - epochs: 10 - lr: 1.0e-05 | Training Loss at end of cycle: 7.54- Training Acc: 1.00- Validation Acc: 0.80\n",
      "Learning attempt 5\n",
      "CYCLE 0: num_of_unfrozen_layers: 5 - epochs: 5 - lr: 1.0e-03 | Training Loss at end of cycle: 3.23- Training Acc: 0.95- Validation Acc: 0.75\n",
      "CYCLE 1: num_of_unfrozen_layers: 5 - epochs: 5 - lr: 1.0e-04 | Training Loss at end of cycle: 2.13- Training Acc: 1.00- Validation Acc: 0.75\n",
      "CYCLE 2: num_of_unfrozen_layers: 6 - epochs: 15 - lr: 5.0e-05 | Training Loss at end of cycle: 1.69- Training Acc: 1.00- Validation Acc: 0.79\n",
      "CYCLE 3: num_of_unfrozen_layers: 7 - epochs: 10 - lr: 1.0e-05 | Training Loss at end of cycle: 1.60- Training Acc: 1.00- Validation Acc: 0.79\n",
      "Best result from attempt 5\n",
      "              precision    recall  f1-score   support\n",
      "\n",
      "   cardboard       0.89      0.89      0.89        57\n",
      "       glass       0.84      0.78      0.81        59\n",
      "       metal       0.82      0.85      0.83        73\n",
      "       paper       0.82      0.92      0.87        89\n",
      "     plastic       0.86      0.75      0.80        81\n",
      "\n",
      "    accuracy                           0.84       359\n",
      "   macro avg       0.85      0.84      0.84       359\n",
      "weighted avg       0.84      0.84      0.84       359\n",
      "\n",
      "    ==== 5.0% of the training data used ==== \n",
      "\n",
      "Learning attempt 1\n",
      "CYCLE 0: num_of_unfrozen_layers: 5 - epochs: 5 - lr: 1.0e-03 | Training Loss at end of cycle: 7.60- Training Acc: 1.00- Validation Acc: 0.77\n",
      "CYCLE 1: num_of_unfrozen_layers: 5 - epochs: 5 - lr: 1.0e-04 | Training Loss at end of cycle: 6.59- Training Acc: 1.00- Validation Acc: 0.76\n",
      "CYCLE 2: num_of_unfrozen_layers: 6 - epochs: 15 - lr: 5.0e-05 | Training Loss at end of cycle: 6.47- Training Acc: 1.00- Validation Acc: 0.76\n",
      "CYCLE 3: num_of_unfrozen_layers: 7 - epochs: 10 - lr: 1.0e-05 | Training Loss at end of cycle: 6.40- Training Acc: 1.00- Validation Acc: 0.76\n",
      "Learning attempt 2\n",
      "CYCLE 0: num_of_unfrozen_layers: 5 - epochs: 5 - lr: 1.0e-03 | Training Loss at end of cycle: 6.90- Training Acc: 0.97- Validation Acc: 0.67\n",
      "CYCLE 1: num_of_unfrozen_layers: 5 - epochs: 5 - lr: 1.0e-04 | Training Loss at end of cycle: 6.73- Training Acc: 1.00- Validation Acc: 0.68\n",
      "CYCLE 2: num_of_unfrozen_layers: 6 - epochs: 15 - lr: 5.0e-05 | Training Loss at end of cycle: 6.60- Training Acc: 0.98- Validation Acc: 0.72\n",
      "CYCLE 3: num_of_unfrozen_layers: 7 - epochs: 10 - lr: 1.0e-05 | Training Loss at end of cycle: 6.22- Training Acc: 1.00- Validation Acc: 0.74\n",
      "Learning attempt 3\n",
      "CYCLE 0: num_of_unfrozen_layers: 5 - epochs: 5 - lr: 1.0e-03 | Training Loss at end of cycle: 6.99- Training Acc: 1.00- Validation Acc: 0.71\n",
      "CYCLE 1: num_of_unfrozen_layers: 5 - epochs: 5 - lr: 1.0e-04 | Training Loss at end of cycle: 6.82- Training Acc: 0.91- Validation Acc: 0.70\n",
      "CYCLE 2: num_of_unfrozen_layers: 6 - epochs: 15 - lr: 5.0e-05 | Training Loss at end of cycle: 6.40- Training Acc: 1.00- Validation Acc: 0.71\n",
      "CYCLE 3: num_of_unfrozen_layers: 7 - epochs: 10 - lr: 1.0e-05 | Training Loss at end of cycle: 6.11- Training Acc: 1.00- Validation Acc: 0.71\n",
      "Learning attempt 4\n",
      "CYCLE 0: num_of_unfrozen_layers: 5 - epochs: 5 - lr: 1.0e-03 | Training Loss at end of cycle: 7.17- Training Acc: 0.99- Validation Acc: 0.74\n",
      "CYCLE 1: num_of_unfrozen_layers: 5 - epochs: 5 - lr: 1.0e-04 | Training Loss at end of cycle: 6.57- Training Acc: 1.00- Validation Acc: 0.74\n",
      "CYCLE 2: num_of_unfrozen_layers: 6 - epochs: 15 - lr: 5.0e-05 | Training Loss at end of cycle: 6.28- Training Acc: 1.00- Validation Acc: 0.74\n",
      "CYCLE 3: num_of_unfrozen_layers: 7 - epochs: 10 - lr: 1.0e-05 | Training Loss at end of cycle: 6.39- Training Acc: 1.00- Validation Acc: 0.76\n",
      "Learning attempt 5\n",
      "CYCLE 0: num_of_unfrozen_layers: 5 - epochs: 5 - lr: 1.0e-03 | Training Loss at end of cycle: 7.11- Training Acc: 0.91- Validation Acc: 0.69\n",
      "CYCLE 1: num_of_unfrozen_layers: 5 - epochs: 5 - lr: 1.0e-04 | Training Loss at end of cycle: 6.63- Training Acc: 1.00- Validation Acc: 0.65\n",
      "CYCLE 2: num_of_unfrozen_layers: 6 - epochs: 15 - lr: 5.0e-05 | Training Loss at end of cycle: 6.57- Training Acc: 1.00- Validation Acc: 0.70\n",
      "CYCLE 3: num_of_unfrozen_layers: 7 - epochs: 10 - lr: 1.0e-05 | Training Loss at end of cycle: 6.47- Training Acc: 1.00- Validation Acc: 0.70\n",
      "Best result from attempt 4\n",
      "              precision    recall  f1-score   support\n",
      "\n",
      "   cardboard       0.90      0.81      0.85        57\n",
      "       glass       0.76      0.75      0.75        59\n",
      "       metal       0.71      0.77      0.74        73\n",
      "       paper       0.77      0.87      0.81        89\n",
      "     plastic       0.77      0.68      0.72        81\n",
      "\n",
      "    accuracy                           0.77       359\n",
      "   macro avg       0.78      0.77      0.78       359\n",
      "weighted avg       0.78      0.77      0.77       359\n",
      "\n"
     ]
    }
   ],
   "source": [
    "for fraction in fractions:\n",
    "    print(f\"    ==== {fraction * 100}% of the training data used ==== \\n\")\n",
    "    SimCLR.train_NL_and_evaluate(dfs = dfs,\n",
    "                                batch_size = batch_size_classifier,\n",
    "                                params_generator = params_generator_classifier,\n",
    "                                fraction = fraction,\n",
    "                                class_labels = class_labels,\n",
    "                                reg_dense = 0.005,\n",
    "                                reg_out = 0.003,\n",
    "                                nums_of_unfrozen_layers = [5, 5, 6, 7],\n",
    "                                lrs = [1e-3, 1e-4, 5e-5, 1e-5],\n",
    "                                epochs = [5, 5, 15, 10],\n",
    "                                verbose_epoch = 0,\n",
    "                                verbose_cycle = 0\n",
    "                                )"
   ]
  },
  {
   "cell_type": "code",
   "execution_count": 48,
   "metadata": {},
   "outputs": [
    {
     "data": {
      "image/png": "[encoded data removed]",
      "text/plain": [
       "<Figure size 432x432 with 1 Axes>"
      ]
     },
     "metadata": {
      "needs_background": "light"
     },
     "output_type": "display_data"
    }
   ],
   "source": [
    "tSNE_vis(df_train, features_train, class_labels)"
   ]
  },
  {
   "cell_type": "markdown",
   "metadata": {},
   "source": [
    "# SimCLR - Round 4: Unfreeze 3 last convolutional layer"
   ]
  },
  {
   "cell_type": "code",
   "execution_count": 49,
   "metadata": {},
   "outputs": [],
   "source": [
    "y_predict_test_before = y_predict_test_after"
   ]
  },
  {
   "cell_type": "markdown",
   "metadata": {},
   "source": [
    "## Training SimCLR"
   ]
  },
  {
   "cell_type": "code",
   "execution_count": 50,
   "metadata": {},
   "outputs": [
    {
     "name": "stdout",
     "output_type": "stream",
     "text": [
      "trainable parameters: 11.54 M.\n",
      "non-trainable parameters: 7.64 M.\n",
      "Train for 53 steps, validate for 12 steps\n",
      "Epoch 1/10\n",
      "52/53 [============================>.] - ETA: 1s - loss: 13.0095 - binary_accuracy: 0.9982\n",
      "Epoch 00001: val_loss improved from inf to 12.37576, saving model to //mmdetection/notebooks/Trashnet/repo/models/trashnet/SimCLR/SimCLR_07_22_09h_53.h5\n",
      "53/53 [==============================] - 73s 1s/step - loss: 12.9989 - binary_accuracy: 0.9982 - val_loss: 12.3758 - val_binary_accuracy: 0.9993\n",
      "Epoch 2/10\n",
      "52/53 [============================>.] - ETA: 0s - loss: 12.1288 - binary_accuracy: 0.9997\n",
      "Epoch 00002: val_loss improved from 12.37576 to 11.86861, saving model to //mmdetection/notebooks/Trashnet/repo/models/trashnet/SimCLR/SimCLR_07_22_09h_53.h5\n",
      "53/53 [==============================] - 47s 896ms/step - loss: 12.1243 - binary_accuracy: 0.9998 - val_loss: 11.8686 - val_binary_accuracy: 0.9998\n",
      "Epoch 3/10\n",
      "52/53 [============================>.] - ETA: 0s - loss: 11.7486 - binary_accuracy: 0.9999\n",
      "Epoch 00003: val_loss improved from 11.86861 to 11.56053, saving model to //mmdetection/notebooks/Trashnet/repo/models/trashnet/SimCLR/SimCLR_07_22_09h_53.h5\n",
      "53/53 [==============================] - 47s 892ms/step - loss: 11.7479 - binary_accuracy: 0.9999 - val_loss: 11.5605 - val_binary_accuracy: 0.9991\n",
      "Epoch 4/10\n",
      "52/53 [============================>.] - ETA: 0s - loss: 11.4599 - binary_accuracy: 0.9998\n",
      "Epoch 00004: val_loss improved from 11.56053 to 11.28880, saving model to //mmdetection/notebooks/Trashnet/repo/models/trashnet/SimCLR/SimCLR_07_22_09h_53.h5\n",
      "53/53 [==============================] - 47s 893ms/step - loss: 11.4574 - binary_accuracy: 0.9998 - val_loss: 11.2888 - val_binary_accuracy: 0.9997\n",
      "Epoch 5/10\n",
      "52/53 [============================>.] - ETA: 0s - loss: 11.2041 - binary_accuracy: 0.9998\n",
      "Epoch 00005: val_loss improved from 11.28880 to 11.04620, saving model to //mmdetection/notebooks/Trashnet/repo/models/trashnet/SimCLR/SimCLR_07_22_09h_53.h5\n",
      "53/53 [==============================] - 47s 891ms/step - loss: 11.2018 - binary_accuracy: 0.9999 - val_loss: 11.0462 - val_binary_accuracy: 0.9997\n",
      "Epoch 6/10\n",
      "52/53 [============================>.] - ETA: 0s - loss: 10.9765 - binary_accuracy: 0.9998\n",
      "Epoch 00006: val_loss improved from 11.04620 to 10.83393, saving model to //mmdetection/notebooks/Trashnet/repo/models/trashnet/SimCLR/SimCLR_07_22_09h_53.h5\n",
      "53/53 [==============================] - 47s 887ms/step - loss: 10.9747 - binary_accuracy: 0.9998 - val_loss: 10.8339 - val_binary_accuracy: 0.9989\n",
      "Epoch 7/10\n",
      "52/53 [============================>.] - ETA: 0s - loss: 10.7431 - binary_accuracy: 0.9998\n",
      "Epoch 00007: val_loss improved from 10.83393 to 10.61784, saving model to //mmdetection/notebooks/Trashnet/repo/models/trashnet/SimCLR/SimCLR_07_22_09h_53.h5\n",
      "53/53 [==============================] - 48s 902ms/step - loss: 10.7413 - binary_accuracy: 0.9998 - val_loss: 10.6178 - val_binary_accuracy: 0.9998\n",
      "Epoch 8/10\n",
      "52/53 [============================>.] - ETA: 0s - loss: 10.5412 - binary_accuracy: 0.9998\n",
      "Epoch 00008: val_loss improved from 10.61784 to 10.41413, saving model to //mmdetection/notebooks/Trashnet/repo/models/trashnet/SimCLR/SimCLR_07_22_09h_53.h5\n",
      "53/53 [==============================] - 48s 913ms/step - loss: 10.5395 - binary_accuracy: 0.9998 - val_loss: 10.4141 - val_binary_accuracy: 0.9995\n",
      "Epoch 9/10\n",
      "52/53 [============================>.] - ETA: 0s - loss: 10.3343 - binary_accuracy: 0.9998\n",
      "Epoch 00009: val_loss improved from 10.41413 to 10.21365, saving model to //mmdetection/notebooks/Trashnet/repo/models/trashnet/SimCLR/SimCLR_07_22_09h_53.h5\n",
      "53/53 [==============================] - 49s 924ms/step - loss: 10.3328 - binary_accuracy: 0.9998 - val_loss: 10.2136 - val_binary_accuracy: 0.9992\n",
      "Epoch 10/10\n",
      "52/53 [============================>.] - ETA: 0s - loss: 10.1489 - binary_accuracy: 1.0000\n",
      "Epoch 00010: val_loss improved from 10.21365 to 10.02185, saving model to //mmdetection/notebooks/Trashnet/repo/models/trashnet/SimCLR/SimCLR_07_22_09h_53.h5\n",
      "53/53 [==============================] - 49s 915ms/step - loss: 10.1475 - binary_accuracy: 1.0000 - val_loss: 10.0219 - val_binary_accuracy: 0.9993\n",
      "trainable parameters: 11.54 M.\n",
      "non-trainable parameters: 7.64 M.\n"
     ]
    }
   ],
   "source": [
    "#Unfreeze\n",
    "SimCLR.unfreeze_and_train(data_train, \n",
    "                          data_val, \n",
    "                          num_of_unfrozen_layers = 4, \n",
    "                          r = 4, \n",
    "                          lr = 1e-5, \n",
    "                          epochs = 10)  "
   ]
  },
  {
   "cell_type": "code",
   "execution_count": null,
   "metadata": {},
   "outputs": [],
   "source": [
    "y_predict_test_after = SimCLR.predict(data_test)"
   ]
  },
  {
   "cell_type": "markdown",
   "metadata": {},
   "source": [
    "## SimCLR-output check"
   ]
  },
  {
   "cell_type": "code",
   "execution_count": null,
   "metadata": {},
   "outputs": [],
   "source": [
    "print(f\"Random guess accuracy: {round(1/(2*batch_size),2)}\")\n",
    "\n",
    "print(f\"accuracy - test - before: {np.round(np.sum(data_test[0][1] * y_predict_test_before[:batch_size])/(2*batch_size),2)}\")\n",
    "print(f\"accuracy - test - after: {np.round(np.sum(data_test[0][1] * y_predict_test_after[:batch_size])/(2*batch_size),2)}\")"
   ]
  },
  {
   "cell_type": "code",
   "execution_count": null,
   "metadata": {},
   "outputs": [],
   "source": [
    "print(\"y_predict_test_before\")\n",
    "for i in range(min(batch_size, 15)):\n",
    "    print(np.round(y_predict_test_before[i][i],2), end=\" | \")\n",
    "print(\"\\n\")    \n",
    "print(\"y_predict_test_after\")\n",
    "for i in range(min(batch_size, 15)):\n",
    "    print(np.round(y_predict_test_after[i][i],2), end=\" | \")"
   ]
  },
  {
   "cell_type": "markdown",
   "metadata": {},
   "source": [
    "## Feature Evaluation"
   ]
  },
  {
   "cell_type": "markdown",
   "metadata": {},
   "source": [
    "### Logistic Regression"
   ]
  },
  {
   "cell_type": "code",
   "execution_count": 51,
   "metadata": {},
   "outputs": [],
   "source": [
    "base_model = SimCLR.base_model"
   ]
  },
  {
   "cell_type": "code",
   "execution_count": 52,
   "metadata": {},
   "outputs": [
    {
     "data": {
      "text/plain": [
       "473"
      ]
     },
     "execution_count": 52,
     "metadata": {},
     "output_type": "execute_result"
    }
   ],
   "source": [
    "features_train, y_train, feats = get_features(base_model, df_train, class_labels)\n",
    "features_test, y_test, feats = get_features(base_model, df_test, class_labels)\n",
    "np.count_nonzero(features_train[0])"
   ]
  },
  {
   "cell_type": "code",
   "execution_count": 53,
   "metadata": {},
   "outputs": [
    {
     "name": "stdout",
     "output_type": "stream",
     "text": [
      "    ==== 100.0% of the training data used ==== \n",
      "\n",
      "Accuracy on test: 0.82 \n",
      "\n",
      "              precision    recall  f1-score   support\n",
      "\n",
      "   cardboard       0.88      0.81      0.84        57\n",
      "       glass       0.81      0.86      0.84        59\n",
      "       metal       0.82      0.81      0.81        73\n",
      "       paper       0.81      0.87      0.84        89\n",
      "     plastic       0.79      0.75      0.77        81\n",
      "\n",
      "    accuracy                           0.82       359\n",
      "   macro avg       0.82      0.82      0.82       359\n",
      "weighted avg       0.82      0.82      0.82       359\n",
      "\n",
      "    ==== 20.0% of the training data used ==== \n",
      "\n",
      "Accuracy on test: 0.78 \n",
      "\n",
      "              precision    recall  f1-score   support\n",
      "\n",
      "   cardboard       0.78      0.79      0.78        57\n",
      "       glass       0.76      0.88      0.82        59\n",
      "       metal       0.81      0.70      0.75        73\n",
      "       paper       0.77      0.83      0.80        89\n",
      "     plastic       0.80      0.73      0.76        81\n",
      "\n",
      "    accuracy                           0.78       359\n",
      "   macro avg       0.78      0.79      0.78       359\n",
      "weighted avg       0.78      0.78      0.78       359\n",
      "\n",
      "    ==== 5.0% of the training data used ==== \n",
      "\n",
      "Accuracy on test: 0.7 \n",
      "\n",
      "              precision    recall  f1-score   support\n",
      "\n",
      "   cardboard       0.81      0.67      0.73        57\n",
      "       glass       0.63      0.90      0.74        59\n",
      "       metal       0.73      0.62      0.67        73\n",
      "       paper       0.67      0.80      0.73        89\n",
      "     plastic       0.77      0.57      0.65        81\n",
      "\n",
      "    accuracy                           0.70       359\n",
      "   macro avg       0.72      0.71      0.70       359\n",
      "weighted avg       0.72      0.70      0.70       359\n",
      "\n"
     ]
    }
   ],
   "source": [
    "# Training logistic regression classifier on 3 fractions of the data\n",
    "# Optimal regularization is determined from a 5-fold cross-validation\n",
    "fractions = [1.0, 0.2, 0.05]\n",
    "for fraction in fractions:\n",
    "    print(f\"    ==== {fraction * 100}% of the training data used ==== \\n\")\n",
    "    linear_classifier(features_train, y_train, features_test, y_test, class_labels, fraction = fraction)"
   ]
  },
  {
   "cell_type": "markdown",
   "metadata": {},
   "source": [
    "### Fine tuned model"
   ]
  },
  {
   "cell_type": "code",
   "execution_count": 54,
   "metadata": {},
   "outputs": [],
   "source": [
    "batch_size_classifier = 32\n",
    "params_generator_classifier = {'max_width':width_img,\n",
    "                            'max_height': height_img,\n",
    "                            'num_classes': num_classes,\n",
    "                            'VGG': True\n",
    "                        }"
   ]
  },
  {
   "cell_type": "code",
   "execution_count": 55,
   "metadata": {},
   "outputs": [
    {
     "name": "stdout",
     "output_type": "stream",
     "text": [
      "    ==== 100.0% of the training data used ==== \n",
      "\n",
      "Learning attempt 1\n",
      "CYCLE 0: num_of_unfrozen_layers: 5 - epochs: 5 - lr: 1.0e-03 | Training Loss at end of cycle: 0.45- Training Acc: 0.98- Validation Acc: 0.77\n",
      "CYCLE 1: num_of_unfrozen_layers: 5 - epochs: 5 - lr: 1.0e-04 | Training Loss at end of cycle: 0.30- Training Acc: 1.00- Validation Acc: 0.83\n",
      "CYCLE 2: num_of_unfrozen_layers: 6 - epochs: 15 - lr: 5.0e-05 | Training Loss at end of cycle: 0.32- Training Acc: 1.00- Validation Acc: 0.83\n",
      "CYCLE 3: num_of_unfrozen_layers: 7 - epochs: 10 - lr: 1.0e-05 | Training Loss at end of cycle: 0.26- Training Acc: 1.00- Validation Acc: 0.83\n",
      "Learning attempt 2\n",
      "CYCLE 0: num_of_unfrozen_layers: 5 - epochs: 5 - lr: 1.0e-03 | Training Loss at end of cycle: 0.51- Training Acc: 0.99- Validation Acc: 0.83\n",
      "CYCLE 1: num_of_unfrozen_layers: 5 - epochs: 5 - lr: 1.0e-04 | Training Loss at end of cycle: 0.34- Training Acc: 1.00- Validation Acc: 0.84\n",
      "CYCLE 2: num_of_unfrozen_layers: 6 - epochs: 15 - lr: 5.0e-05 | Training Loss at end of cycle: 0.27- Training Acc: 1.00- Validation Acc: 0.84\n",
      "CYCLE 3: num_of_unfrozen_layers: 7 - epochs: 10 - lr: 1.0e-05 | Training Loss at end of cycle: 0.32- Training Acc: 1.00- Validation Acc: 0.84\n",
      "Learning attempt 3\n",
      "CYCLE 0: num_of_unfrozen_layers: 5 - epochs: 5 - lr: 1.0e-03 | Training Loss at end of cycle: 0.43- Training Acc: 1.00- Validation Acc: 0.83\n",
      "CYCLE 1: num_of_unfrozen_layers: 5 - epochs: 5 - lr: 1.0e-04 | Training Loss at end of cycle: 0.33- Training Acc: 0.99- Validation Acc: 0.84\n",
      "CYCLE 2: num_of_unfrozen_layers: 6 - epochs: 15 - lr: 5.0e-05 | Training Loss at end of cycle: 0.29- Training Acc: 1.00- Validation Acc: 0.85\n",
      "CYCLE 3: num_of_unfrozen_layers: 7 - epochs: 10 - lr: 1.0e-05 | Training Loss at end of cycle: 0.25- Training Acc: 1.00- Validation Acc: 0.81\n",
      "Learning diverged, stopped.\n",
      "Learning attempt 4\n",
      "CYCLE 0: num_of_unfrozen_layers: 5 - epochs: 5 - lr: 1.0e-03 | Training Loss at end of cycle: 0.41- Training Acc: 0.99- Validation Acc: 0.82\n",
      "CYCLE 1: num_of_unfrozen_layers: 5 - epochs: 5 - lr: 1.0e-04 | Training Loss at end of cycle: 0.30- Training Acc: 1.00- Validation Acc: 0.80\n",
      "CYCLE 2: num_of_unfrozen_layers: 6 - epochs: 15 - lr: 5.0e-05 | Training Loss at end of cycle: 0.24- Training Acc: 1.00- Validation Acc: 0.84\n",
      "CYCLE 3: num_of_unfrozen_layers: 7 - epochs: 10 - lr: 1.0e-05 | Training Loss at end of cycle: 0.30- Training Acc: 1.00- Validation Acc: 0.84\n",
      "Learning attempt 5\n",
      "CYCLE 0: num_of_unfrozen_layers: 5 - epochs: 5 - lr: 1.0e-03 | Training Loss at end of cycle: 0.42- Training Acc: 1.00- Validation Acc: 0.80\n",
      "CYCLE 1: num_of_unfrozen_layers: 5 - epochs: 5 - lr: 1.0e-04 | Training Loss at end of cycle: 0.26- Training Acc: 1.00- Validation Acc: 0.84\n",
      "CYCLE 2: num_of_unfrozen_layers: 6 - epochs: 15 - lr: 5.0e-05 | Training Loss at end of cycle: 0.28- Training Acc: 1.00- Validation Acc: 0.85\n",
      "CYCLE 3: num_of_unfrozen_layers: 7 - epochs: 10 - lr: 1.0e-05 | Training Loss at end of cycle: 0.29- Training Acc: 1.00- Validation Acc: 0.84\n",
      "Best result from attempt 1\n",
      "              precision    recall  f1-score   support\n",
      "\n",
      "   cardboard       0.96      0.86      0.91        57\n",
      "       glass       0.80      0.88      0.84        59\n",
      "       metal       0.85      0.85      0.85        73\n",
      "       paper       0.84      0.96      0.89        89\n",
      "     plastic       0.88      0.75      0.81        81\n",
      "\n",
      "    accuracy                           0.86       359\n",
      "   macro avg       0.87      0.86      0.86       359\n",
      "weighted avg       0.86      0.86      0.86       359\n",
      "\n",
      "    ==== 20.0% of the training data used ==== \n",
      "\n",
      "Learning attempt 1\n",
      "CYCLE 0: num_of_unfrozen_layers: 5 - epochs: 5 - lr: 1.0e-03 | Training Loss at end of cycle: 3.33- Training Acc: 1.00- Validation Acc: 0.80\n",
      "CYCLE 1: num_of_unfrozen_layers: 5 - epochs: 5 - lr: 1.0e-04 | Training Loss at end of cycle: 2.31- Training Acc: 0.97- Validation Acc: 0.77\n",
      "CYCLE 2: num_of_unfrozen_layers: 6 - epochs: 15 - lr: 5.0e-05 | Training Loss at end of cycle: 1.95- Training Acc: 1.00- Validation Acc: 0.82\n",
      "CYCLE 3: num_of_unfrozen_layers: 7 - epochs: 10 - lr: 1.0e-05 | Training Loss at end of cycle: 1.83- Training Acc: 1.00- Validation Acc: 0.82\n",
      "Learning attempt 2\n",
      "CYCLE 0: num_of_unfrozen_layers: 5 - epochs: 5 - lr: 1.0e-03 | Training Loss at end of cycle: 2.95- Training Acc: 1.00- Validation Acc: 0.78\n",
      "CYCLE 1: num_of_unfrozen_layers: 5 - epochs: 5 - lr: 1.0e-04 | Training Loss at end of cycle: 2.05- Training Acc: 1.00- Validation Acc: 0.81\n",
      "CYCLE 2: num_of_unfrozen_layers: 6 - epochs: 15 - lr: 5.0e-05 | Training Loss at end of cycle: 1.40- Training Acc: 1.00- Validation Acc: 0.82\n",
      "CYCLE 3: num_of_unfrozen_layers: 7 - epochs: 10 - lr: 1.0e-05 | Training Loss at end of cycle: 1.45- Training Acc: 1.00- Validation Acc: 0.82\n",
      "Learning attempt 3\n",
      "CYCLE 0: num_of_unfrozen_layers: 5 - epochs: 5 - lr: 1.0e-03 | Training Loss at end of cycle: 5.69- Training Acc: 0.97- Validation Acc: 0.75\n",
      "CYCLE 1: num_of_unfrozen_layers: 5 - epochs: 5 - lr: 1.0e-04 | Training Loss at end of cycle: 5.94- Training Acc: 0.83- Validation Acc: 0.68\n",
      "CYCLE 2: num_of_unfrozen_layers: 6 - epochs: 15 - lr: 5.0e-05 | Training Loss at end of cycle: 5.92- Training Acc: 0.87- Validation Acc: 0.69\n",
      "CYCLE 3: num_of_unfrozen_layers: 7 - epochs: 10 - lr: 1.0e-05 | Training Loss at end of cycle: 5.86- Training Acc: 0.89- Validation Acc: 0.70\n",
      "Learning attempt 4\n",
      "CYCLE 0: num_of_unfrozen_layers: 5 - epochs: 5 - lr: 1.0e-03 | Training Loss at end of cycle: 2.70- Training Acc: 0.99- Validation Acc: 0.72\n",
      "CYCLE 1: num_of_unfrozen_layers: 5 - epochs: 5 - lr: 1.0e-04 | Training Loss at end of cycle: 1.98- Training Acc: 1.00- Validation Acc: 0.78\n",
      "CYCLE 2: num_of_unfrozen_layers: 6 - epochs: 15 - lr: 5.0e-05 | Training Loss at end of cycle: 1.40- Training Acc: 1.00- Validation Acc: 0.82\n",
      "CYCLE 3: num_of_unfrozen_layers: 7 - epochs: 10 - lr: 1.0e-05 | Training Loss at end of cycle: 1.24- Training Acc: 1.00- Validation Acc: 0.84\n",
      "Learning attempt 5\n",
      "CYCLE 0: num_of_unfrozen_layers: 5 - epochs: 5 - lr: 1.0e-03 | Training Loss at end of cycle: 3.28- Training Acc: 0.96- Validation Acc: 0.64\n",
      "CYCLE 1: num_of_unfrozen_layers: 5 - epochs: 5 - lr: 1.0e-04 | Training Loss at end of cycle: 2.29- Training Acc: 0.96- Validation Acc: 0.58\n",
      "CYCLE 2: num_of_unfrozen_layers: 6 - epochs: 15 - lr: 5.0e-05 | Training Loss at end of cycle: 1.81- Training Acc: 1.00- Validation Acc: 0.57\n",
      "CYCLE 3: num_of_unfrozen_layers: 7 - epochs: 10 - lr: 1.0e-05 | Training Loss at end of cycle: 1.91- Training Acc: 0.97- Validation Acc: 0.56\n",
      "Best result from attempt 2\n",
      "              precision    recall  f1-score   support\n",
      "\n",
      "   cardboard       0.93      0.91      0.92        57\n",
      "       glass       0.80      0.83      0.82        59\n",
      "       metal       0.88      0.84      0.86        73\n",
      "       paper       0.86      0.92      0.89        89\n",
      "     plastic       0.81      0.78      0.79        81\n",
      "\n",
      "    accuracy                           0.86       359\n",
      "   macro avg       0.86      0.86      0.86       359\n",
      "weighted avg       0.86      0.86      0.85       359\n",
      "\n",
      "    ==== 5.0% of the training data used ==== \n",
      "\n",
      "Learning attempt 1\n",
      "CYCLE 0: num_of_unfrozen_layers: 5 - epochs: 5 - lr: 1.0e-03 | Training Loss at end of cycle: 7.65- Training Acc: 1.00- Validation Acc: 0.75\n",
      "CYCLE 1: num_of_unfrozen_layers: 5 - epochs: 5 - lr: 1.0e-04 | Training Loss at end of cycle: 6.30- Training Acc: 0.93- Validation Acc: 0.77\n",
      "CYCLE 2: num_of_unfrozen_layers: 6 - epochs: 15 - lr: 5.0e-05 | Training Loss at end of cycle: 6.36- Training Acc: 0.98- Validation Acc: 0.83\n",
      "CYCLE 3: num_of_unfrozen_layers: 7 - epochs: 10 - lr: 1.0e-05 | Training Loss at end of cycle: 6.36- Training Acc: 0.98- Validation Acc: 0.83\n",
      "Learning attempt 2\n",
      "CYCLE 0: num_of_unfrozen_layers: 5 - epochs: 5 - lr: 1.0e-03 | Training Loss at end of cycle: 7.74- Training Acc: 0.91- Validation Acc: 0.51\n",
      "Learning diverged, stopped.\n",
      "Learning attempt 3\n",
      "CYCLE 0: num_of_unfrozen_layers: 5 - epochs: 5 - lr: 1.0e-03 | Training Loss at end of cycle: 7.04- Training Acc: 0.93- Validation Acc: 0.62\n",
      "CYCLE 1: num_of_unfrozen_layers: 5 - epochs: 5 - lr: 1.0e-04 | Training Loss at end of cycle: 6.59- Training Acc: 1.00- Validation Acc: 0.65\n",
      "CYCLE 2: num_of_unfrozen_layers: 6 - epochs: 15 - lr: 5.0e-05 | Training Loss at end of cycle: 6.49- Training Acc: 1.00- Validation Acc: 0.73\n",
      "CYCLE 3: num_of_unfrozen_layers: 7 - epochs: 10 - lr: 1.0e-05 | Training Loss at end of cycle: 6.13- Training Acc: 0.95- Validation Acc: 0.77\n",
      "Learning attempt 4\n",
      "CYCLE 0: num_of_unfrozen_layers: 5 - epochs: 5 - lr: 1.0e-03 | Training Loss at end of cycle: 7.60- Training Acc: 0.92- Validation Acc: 0.64\n",
      "CYCLE 1: num_of_unfrozen_layers: 5 - epochs: 5 - lr: 1.0e-04 | Training Loss at end of cycle: 6.66- Training Acc: 1.00- Validation Acc: 0.58\n",
      "CYCLE 2: num_of_unfrozen_layers: 6 - epochs: 15 - lr: 5.0e-05 | Training Loss at end of cycle: 6.69- Training Acc: 0.96- Validation Acc: 0.69\n",
      "CYCLE 3: num_of_unfrozen_layers: 7 - epochs: 10 - lr: 1.0e-05 | Training Loss at end of cycle: 6.62- Training Acc: 1.00- Validation Acc: 0.74\n",
      "Learning attempt 5\n",
      "CYCLE 0: num_of_unfrozen_layers: 5 - epochs: 5 - lr: 1.0e-03 | Training Loss at end of cycle: 7.07- Training Acc: 0.99- Validation Acc: 0.60\n",
      "CYCLE 1: num_of_unfrozen_layers: 5 - epochs: 5 - lr: 1.0e-04 | Training Loss at end of cycle: 7.07- Training Acc: 1.00- Validation Acc: 0.62\n",
      "CYCLE 2: num_of_unfrozen_layers: 6 - epochs: 15 - lr: 5.0e-05 | Training Loss at end of cycle: 6.63- Training Acc: 1.00- Validation Acc: 0.74\n",
      "CYCLE 3: num_of_unfrozen_layers: 7 - epochs: 10 - lr: 1.0e-05 | Training Loss at end of cycle: 6.42- Training Acc: 1.00- Validation Acc: 0.75\n",
      "Best result from attempt 1\n",
      "              precision    recall  f1-score   support\n",
      "\n",
      "   cardboard       0.96      0.79      0.87        57\n",
      "       glass       0.71      0.86      0.78        59\n",
      "       metal       0.77      0.81      0.79        73\n",
      "       paper       0.80      0.88      0.83        89\n",
      "     plastic       0.89      0.72      0.79        81\n",
      "\n",
      "    accuracy                           0.81       359\n",
      "   macro avg       0.82      0.81      0.81       359\n",
      "weighted avg       0.82      0.81      0.81       359\n",
      "\n"
     ]
    }
   ],
   "source": [
    "for fraction in fractions:\n",
    "    print(f\"    ==== {fraction * 100}% of the training data used ==== \\n\")\n",
    "    SimCLR.train_NL_and_evaluate(dfs = dfs,\n",
    "                                batch_size = batch_size_classifier,\n",
    "                                params_generator = params_generator_classifier,\n",
    "                                fraction = fraction,\n",
    "                                class_labels = class_labels,\n",
    "                                reg_dense = 0.005,\n",
    "                                reg_out = 0.003,\n",
    "                                nums_of_unfrozen_layers = [5, 5, 6, 7],\n",
    "                                lrs = [1e-3, 1e-4, 5e-5, 1e-5],\n",
    "                                epochs = [5, 5, 15, 10],\n",
    "                                verbose_epoch = 0,\n",
    "                                verbose_cycle = 0\n",
    "                                )"
   ]
  },
  {
   "cell_type": "code",
   "execution_count": 56,
   "metadata": {},
   "outputs": [
    {
     "data": {
      "image/png": "[encoded data removed]",
      "text/plain": [
       "<Figure size 432x432 with 1 Axes>"
      ]
     },
     "metadata": {
      "needs_background": "light"
     },
     "output_type": "display_data"
    }
   ],
   "source": [
    "tSNE_vis(df_train, features_train, class_labels)"
   ]
  },
  {
   "cell_type": "code",
   "execution_count": null,
   "metadata": {},
   "outputs": [],
   "source": []
  }
 ],
 "metadata": {
  "kernelspec": {
   "display_name": "Python 3",
   "language": "python",
   "name": "python3"
  },
  "language_info": {
   "codemirror_mode": {
    "name": "ipython",
    "version": 3
   },
   "file_extension": ".py",
   "mimetype": "text/x-python",
   "name": "python",
   "nbconvert_exporter": "python",
   "pygments_lexer": "ipython3",
   "version": "3.7.7-final"
  }
 },
 "nbformat": 4,
 "nbformat_minor": 4
}